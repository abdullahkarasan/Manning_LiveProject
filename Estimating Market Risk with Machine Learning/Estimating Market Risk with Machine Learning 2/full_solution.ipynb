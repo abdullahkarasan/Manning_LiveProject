{
 "cells": [
  {
   "cell_type": "code",
   "execution_count": 3,
   "metadata": {},
   "outputs": [],
   "source": [
    "import pandas as pd\n",
    "import numpy as np\n",
    "import matplotlib.pyplot as plt\n",
    "import datetime\n",
    "import yfinance as yf\n",
    "import warnings\n",
    "warnings.filterwarnings('ignore')"
   ]
  },
  {
   "cell_type": "markdown",
   "metadata": {},
   "source": [
    "# Liquidity Adjusted VaR"
   ]
  },
  {
   "cell_type": "markdown",
   "metadata": {},
   "source": [
    "Bid-ask spread is considered to be a proxy for modeling the liquidity in the market. Liquidity is a widespread financial phenomenon. Liquidity can be defined as the easiness of the trasaction with which assets can be sold in a very short time period without a significant impact on market price. \n"
   ]
  },
  {
   "cell_type": "code",
   "execution_count": 4,
   "metadata": {},
   "outputs": [],
   "source": [
    "bid_ask = pd.read_csv('bid_ask.csv')"
   ]
  },
  {
   "cell_type": "code",
   "execution_count": 5,
   "metadata": {},
   "outputs": [
    {
     "data": {
      "text/html": [
       "<div>\n",
       "<style scoped>\n",
       "    .dataframe tbody tr th:only-of-type {\n",
       "        vertical-align: middle;\n",
       "    }\n",
       "\n",
       "    .dataframe tbody tr th {\n",
       "        vertical-align: top;\n",
       "    }\n",
       "\n",
       "    .dataframe thead th {\n",
       "        text-align: right;\n",
       "    }\n",
       "</style>\n",
       "<table border=\"1\" class=\"dataframe\">\n",
       "  <thead>\n",
       "    <tr style=\"text-align: right;\">\n",
       "      <th></th>\n",
       "      <th>Unnamed: 0</th>\n",
       "      <th>Date</th>\n",
       "      <th>EXCHCD</th>\n",
       "      <th>TICKER</th>\n",
       "      <th>COMNAM</th>\n",
       "      <th>BIDLO</th>\n",
       "      <th>ASKHI</th>\n",
       "      <th>PRC</th>\n",
       "      <th>VOL</th>\n",
       "      <th>RET</th>\n",
       "      <th>SHROUT</th>\n",
       "      <th>OPENPRC</th>\n",
       "      <th>vwretx</th>\n",
       "    </tr>\n",
       "  </thead>\n",
       "  <tbody>\n",
       "    <tr>\n",
       "      <th>0</th>\n",
       "      <td>1031570</td>\n",
       "      <td>2019-01-02</td>\n",
       "      <td>3.0</td>\n",
       "      <td>INTC</td>\n",
       "      <td>INTEL CORP</td>\n",
       "      <td>45.77</td>\n",
       "      <td>47.470</td>\n",
       "      <td>47.08</td>\n",
       "      <td>18761673.0</td>\n",
       "      <td>0.003196</td>\n",
       "      <td>4564000.0</td>\n",
       "      <td>45.960</td>\n",
       "      <td>0.001783</td>\n",
       "    </tr>\n",
       "    <tr>\n",
       "      <th>1</th>\n",
       "      <td>1031571</td>\n",
       "      <td>2019-01-03</td>\n",
       "      <td>3.0</td>\n",
       "      <td>INTC</td>\n",
       "      <td>INTEL CORP</td>\n",
       "      <td>44.39</td>\n",
       "      <td>46.280</td>\n",
       "      <td>44.49</td>\n",
       "      <td>32254097.0</td>\n",
       "      <td>-0.055013</td>\n",
       "      <td>4564000.0</td>\n",
       "      <td>46.150</td>\n",
       "      <td>-0.021219</td>\n",
       "    </tr>\n",
       "    <tr>\n",
       "      <th>2</th>\n",
       "      <td>1031572</td>\n",
       "      <td>2019-01-04</td>\n",
       "      <td>3.0</td>\n",
       "      <td>INTC</td>\n",
       "      <td>INTEL CORP</td>\n",
       "      <td>45.54</td>\n",
       "      <td>47.570</td>\n",
       "      <td>47.22</td>\n",
       "      <td>35419836.0</td>\n",
       "      <td>0.061362</td>\n",
       "      <td>4564000.0</td>\n",
       "      <td>45.835</td>\n",
       "      <td>0.033399</td>\n",
       "    </tr>\n",
       "    <tr>\n",
       "      <th>3</th>\n",
       "      <td>1031573</td>\n",
       "      <td>2019-01-07</td>\n",
       "      <td>3.0</td>\n",
       "      <td>INTC</td>\n",
       "      <td>INTEL CORP</td>\n",
       "      <td>46.75</td>\n",
       "      <td>47.995</td>\n",
       "      <td>47.44</td>\n",
       "      <td>22724997.0</td>\n",
       "      <td>0.004659</td>\n",
       "      <td>4564000.0</td>\n",
       "      <td>47.100</td>\n",
       "      <td>0.009191</td>\n",
       "    </tr>\n",
       "    <tr>\n",
       "      <th>4</th>\n",
       "      <td>1031574</td>\n",
       "      <td>2019-01-08</td>\n",
       "      <td>3.0</td>\n",
       "      <td>INTC</td>\n",
       "      <td>INTEL CORP</td>\n",
       "      <td>46.78</td>\n",
       "      <td>48.030</td>\n",
       "      <td>47.74</td>\n",
       "      <td>22721240.0</td>\n",
       "      <td>0.006324</td>\n",
       "      <td>4564000.0</td>\n",
       "      <td>47.800</td>\n",
       "      <td>0.010240</td>\n",
       "    </tr>\n",
       "  </tbody>\n",
       "</table>\n",
       "</div>"
      ],
      "text/plain": [
       "   Unnamed: 0        Date  EXCHCD TICKER      COMNAM  BIDLO   ASKHI    PRC  \\\n",
       "0     1031570  2019-01-02     3.0   INTC  INTEL CORP  45.77  47.470  47.08   \n",
       "1     1031571  2019-01-03     3.0   INTC  INTEL CORP  44.39  46.280  44.49   \n",
       "2     1031572  2019-01-04     3.0   INTC  INTEL CORP  45.54  47.570  47.22   \n",
       "3     1031573  2019-01-07     3.0   INTC  INTEL CORP  46.75  47.995  47.44   \n",
       "4     1031574  2019-01-08     3.0   INTC  INTEL CORP  46.78  48.030  47.74   \n",
       "\n",
       "          VOL       RET     SHROUT  OPENPRC    vwretx  \n",
       "0  18761673.0  0.003196  4564000.0   45.960  0.001783  \n",
       "1  32254097.0 -0.055013  4564000.0   46.150 -0.021219  \n",
       "2  35419836.0  0.061362  4564000.0   45.835  0.033399  \n",
       "3  22724997.0  0.004659  4564000.0   47.100  0.009191  \n",
       "4  22721240.0  0.006324  4564000.0   47.800  0.010240  "
      ]
     },
     "execution_count": 5,
     "metadata": {},
     "output_type": "execute_result"
    }
   ],
   "source": [
    "bid_ask.head()"
   ]
  },
  {
   "cell_type": "markdown",
   "metadata": {},
   "source": [
    "Following are the common bid-ask spreads used to model liquidity:\n",
    "    \n",
    "* Effective Spread\n",
    "* Proportional Quoted Spread\n",
    "* Quoted Spread\n",
    "* Proportional Effective Spread\n",
    "* Effective Cost "
   ]
  },
  {
   "cell_type": "markdown",
   "metadata": {},
   "source": [
    "\\begin{equation}\n",
    "\\text{Effective Spread}=2|(P_t-P_{mid})|\n",
    "\\end{equation}\n",
    "\n",
    "\n"
   ]
  },
  {
   "cell_type": "markdown",
   "metadata": {},
   "source": [
    "where $P_t$ is the price of trade at time t and $P_{mid}$ is the midpoint of the bid-ask offer ($(P_{ask}-P_{bid})/2$) prevailing at the time of the $t$.\n",
    "\n"
   ]
  },
  {
   "cell_type": "markdown",
   "metadata": {},
   "source": [
    "\\begin{equation}\n",
    "\\text{Proportional Quoted Spread}=(P_{ask} - P_{bid}) / P_{mid}\n",
    "\\end{equation}"
   ]
  },
  {
   "cell_type": "markdown",
   "metadata": {},
   "source": [
    "where $P_{ask}$ is the ask price and $P_{bid}$ and $P_{mid}$ are bid price and mid price, respectively.\n",
    "\n"
   ]
  },
  {
   "cell_type": "markdown",
   "metadata": {},
   "source": [
    "\\begin{equation}\n",
    "\\text{Quoted Spread}= P_{ask} - P_{bid}\n",
    "\\end{equation}"
   ]
  },
  {
   "cell_type": "markdown",
   "metadata": {},
   "source": [
    "\\begin{equation}\n",
    "\\text{Proportional Effective Spread}= 2(|P_t-P_{mid}|) / P_{mid}\n",
    "\\end{equation}\n"
   ]
  },
  {
   "cell_type": "markdown",
   "metadata": {},
   "source": [
    "\\begin{equation}\n",
    "\\text{Effective Cost}= \\left  \\{\n",
    "  \\begin{array}{lr}\n",
    "  (P_t-P_{mid})/P_{mid}\\text{ for buyer initiated}\\\\\n",
    "  (P_{mid}/P_t)/P_{mid}\\text{ for seller initiated}\\\\\n",
    "   \\end{array}\n",
    "\\right.\n",
    "\\end{equation}\n"
   ]
  },
  {
   "cell_type": "markdown",
   "metadata": {},
   "source": [
    "Buyer-initiated trade occurs when a trade is executed at a price abover quoted mid price. Similarly, seller-initiated trade occurs when a trade is executed at a price below than the quoted mid price.\n",
    "\n"
   ]
  },
  {
   "cell_type": "code",
   "execution_count": 6,
   "metadata": {},
   "outputs": [],
   "source": [
    "bid_ask['mid_price'] = (bid_ask['ASKHI'] + bid_ask['BIDLO']) / 2\n",
    "buyer_seller_initiated = []\n",
    "for i in range(len(bid_ask)):\n",
    "    if bid_ask['PRC'][i] > bid_ask['mid_price'][i]:\n",
    "        buyer_seller_initiated.append(1)\n",
    "    else:\n",
    "        buyer_seller_initiated.append(0)\n",
    "        \n",
    "bid_ask['buyer_seller_init'] = buyer_seller_initiated   "
   ]
  },
  {
   "cell_type": "code",
   "execution_count": 7,
   "metadata": {},
   "outputs": [],
   "source": [
    "effective_cost = []\n",
    "for i in range(len(bid_ask)):\n",
    "    if bid_ask['buyer_seller_init'][i] == 1:\n",
    "        effective_cost.append((bid_ask['PRC'][i] - \n",
    "                               bid_ask['mid_price'][i]) / \n",
    "                               bid_ask['mid_price'][i])\n",
    "    else:\n",
    "        effective_cost.append((bid_ask['mid_price'][i] - \n",
    "                               bid_ask['PRC'][i])/\n",
    "                               bid_ask['mid_price'][i])\n",
    "bid_ask['effective_cost'] = effective_cost"
   ]
  },
  {
   "cell_type": "code",
   "execution_count": 8,
   "metadata": {},
   "outputs": [],
   "source": [
    "bid_ask['quoted'] = bid_ask['ASKHI'] - bid_ask['BIDLO']\n",
    "bid_ask['prop_quoted'] = (bid_ask['ASKHI'] - bid_ask['BIDLO']) /\\\n",
    "                         bid_ask['mid_price']\n",
    "bid_ask['effective'] = 2 * abs(bid_ask['PRC'] - bid_ask['mid_price'])\n",
    "bid_ask['prop_effective'] = 2 * abs(bid_ask['PRC'] - \n",
    "                                    bid_ask['mid_price']) /\\\n",
    "                                    bid_ask['PRC']"
   ]
  },
  {
   "cell_type": "code",
   "execution_count": 9,
   "metadata": {},
   "outputs": [],
   "source": [
    "bid_ask.to_csv('bid_ask_revised.csv')"
   ]
  },
  {
   "cell_type": "markdown",
   "metadata": {},
   "source": [
    "The last five columns of the `bid_ask` data contain our bid-ask spread calculations:"
   ]
  },
  {
   "cell_type": "code",
   "execution_count": 10,
   "metadata": {},
   "outputs": [
    {
     "data": {
      "text/html": [
       "<div>\n",
       "<style scoped>\n",
       "    .dataframe tbody tr th:only-of-type {\n",
       "        vertical-align: middle;\n",
       "    }\n",
       "\n",
       "    .dataframe tbody tr th {\n",
       "        vertical-align: top;\n",
       "    }\n",
       "\n",
       "    .dataframe thead th {\n",
       "        text-align: right;\n",
       "    }\n",
       "</style>\n",
       "<table border=\"1\" class=\"dataframe\">\n",
       "  <thead>\n",
       "    <tr style=\"text-align: right;\">\n",
       "      <th></th>\n",
       "      <th>effective_cost</th>\n",
       "      <th>quoted</th>\n",
       "      <th>prop_quoted</th>\n",
       "      <th>effective</th>\n",
       "      <th>prop_effective</th>\n",
       "    </tr>\n",
       "  </thead>\n",
       "  <tbody>\n",
       "    <tr>\n",
       "      <th>0</th>\n",
       "      <td>0.009867</td>\n",
       "      <td>1.70000</td>\n",
       "      <td>0.036465</td>\n",
       "      <td>0.92000</td>\n",
       "      <td>0.019541</td>\n",
       "    </tr>\n",
       "    <tr>\n",
       "      <th>1</th>\n",
       "      <td>0.018639</td>\n",
       "      <td>1.89000</td>\n",
       "      <td>0.041690</td>\n",
       "      <td>1.69000</td>\n",
       "      <td>0.037986</td>\n",
       "    </tr>\n",
       "    <tr>\n",
       "      <th>2</th>\n",
       "      <td>0.014284</td>\n",
       "      <td>2.03000</td>\n",
       "      <td>0.043604</td>\n",
       "      <td>1.33000</td>\n",
       "      <td>0.028166</td>\n",
       "    </tr>\n",
       "    <tr>\n",
       "      <th>3</th>\n",
       "      <td>0.001425</td>\n",
       "      <td>1.24500</td>\n",
       "      <td>0.026281</td>\n",
       "      <td>0.13500</td>\n",
       "      <td>0.002846</td>\n",
       "    </tr>\n",
       "    <tr>\n",
       "      <th>4</th>\n",
       "      <td>0.007067</td>\n",
       "      <td>1.25000</td>\n",
       "      <td>0.026369</td>\n",
       "      <td>0.67000</td>\n",
       "      <td>0.014034</td>\n",
       "    </tr>\n",
       "    <tr>\n",
       "      <th>...</th>\n",
       "      <td>...</td>\n",
       "      <td>...</td>\n",
       "      <td>...</td>\n",
       "      <td>...</td>\n",
       "      <td>...</td>\n",
       "    </tr>\n",
       "    <tr>\n",
       "      <th>751</th>\n",
       "      <td>0.000999</td>\n",
       "      <td>1.01000</td>\n",
       "      <td>0.007475</td>\n",
       "      <td>0.27000</td>\n",
       "      <td>0.002000</td>\n",
       "    </tr>\n",
       "    <tr>\n",
       "      <th>752</th>\n",
       "      <td>0.000502</td>\n",
       "      <td>0.65551</td>\n",
       "      <td>0.004856</td>\n",
       "      <td>0.13549</td>\n",
       "      <td>0.001004</td>\n",
       "    </tr>\n",
       "    <tr>\n",
       "      <th>753</th>\n",
       "      <td>0.000296</td>\n",
       "      <td>0.88000</td>\n",
       "      <td>0.006504</td>\n",
       "      <td>0.08000</td>\n",
       "      <td>0.000591</td>\n",
       "    </tr>\n",
       "    <tr>\n",
       "      <th>754</th>\n",
       "      <td>0.008140</td>\n",
       "      <td>2.80000</td>\n",
       "      <td>0.020911</td>\n",
       "      <td>2.18000</td>\n",
       "      <td>0.016414</td>\n",
       "    </tr>\n",
       "    <tr>\n",
       "      <th>755</th>\n",
       "      <td>0.005853</td>\n",
       "      <td>1.72001</td>\n",
       "      <td>0.012907</td>\n",
       "      <td>1.55999</td>\n",
       "      <td>0.011638</td>\n",
       "    </tr>\n",
       "  </tbody>\n",
       "</table>\n",
       "<p>756 rows × 5 columns</p>\n",
       "</div>"
      ],
      "text/plain": [
       "     effective_cost   quoted  prop_quoted  effective  prop_effective\n",
       "0          0.009867  1.70000     0.036465    0.92000        0.019541\n",
       "1          0.018639  1.89000     0.041690    1.69000        0.037986\n",
       "2          0.014284  2.03000     0.043604    1.33000        0.028166\n",
       "3          0.001425  1.24500     0.026281    0.13500        0.002846\n",
       "4          0.007067  1.25000     0.026369    0.67000        0.014034\n",
       "..              ...      ...          ...        ...             ...\n",
       "751        0.000999  1.01000     0.007475    0.27000        0.002000\n",
       "752        0.000502  0.65551     0.004856    0.13549        0.001004\n",
       "753        0.000296  0.88000     0.006504    0.08000        0.000591\n",
       "754        0.008140  2.80000     0.020911    2.18000        0.016414\n",
       "755        0.005853  1.72001     0.012907    1.55999        0.011638\n",
       "\n",
       "[756 rows x 5 columns]"
      ]
     },
     "execution_count": 10,
     "metadata": {},
     "output_type": "execute_result"
    }
   ],
   "source": [
    "spread_meas = bid_ask.iloc[:, -5:]\n",
    "spread_meas"
   ]
  },
  {
   "cell_type": "markdown",
   "metadata": {},
   "source": [
    "Let us check the correlation structure of spread measures. The correlation table shows that effective cost and proportional effective spread are highly correlated. Whereas quoted and effective cost spread shows low correlation."
   ]
  },
  {
   "cell_type": "code",
   "execution_count": 11,
   "metadata": {},
   "outputs": [
    {
     "data": {
      "text/html": [
       "<div>\n",
       "<style scoped>\n",
       "    .dataframe tbody tr th:only-of-type {\n",
       "        vertical-align: middle;\n",
       "    }\n",
       "\n",
       "    .dataframe tbody tr th {\n",
       "        vertical-align: top;\n",
       "    }\n",
       "\n",
       "    .dataframe thead th {\n",
       "        text-align: right;\n",
       "    }\n",
       "</style>\n",
       "<table border=\"1\" class=\"dataframe\">\n",
       "  <thead>\n",
       "    <tr style=\"text-align: right;\">\n",
       "      <th></th>\n",
       "      <th>effective_cost</th>\n",
       "      <th>quoted</th>\n",
       "      <th>prop_quoted</th>\n",
       "      <th>effective</th>\n",
       "      <th>prop_effective</th>\n",
       "    </tr>\n",
       "  </thead>\n",
       "  <tbody>\n",
       "    <tr>\n",
       "      <th>effective_cost</th>\n",
       "      <td>1.000000</td>\n",
       "      <td>0.441290</td>\n",
       "      <td>0.727917</td>\n",
       "      <td>0.800894</td>\n",
       "      <td>0.999847</td>\n",
       "    </tr>\n",
       "    <tr>\n",
       "      <th>quoted</th>\n",
       "      <td>0.441290</td>\n",
       "      <td>1.000000</td>\n",
       "      <td>0.628526</td>\n",
       "      <td>0.717246</td>\n",
       "      <td>0.442053</td>\n",
       "    </tr>\n",
       "    <tr>\n",
       "      <th>prop_quoted</th>\n",
       "      <td>0.727917</td>\n",
       "      <td>0.628526</td>\n",
       "      <td>1.000000</td>\n",
       "      <td>0.514979</td>\n",
       "      <td>0.728687</td>\n",
       "    </tr>\n",
       "    <tr>\n",
       "      <th>effective</th>\n",
       "      <td>0.800894</td>\n",
       "      <td>0.717246</td>\n",
       "      <td>0.514979</td>\n",
       "      <td>1.000000</td>\n",
       "      <td>0.800713</td>\n",
       "    </tr>\n",
       "    <tr>\n",
       "      <th>prop_effective</th>\n",
       "      <td>0.999847</td>\n",
       "      <td>0.442053</td>\n",
       "      <td>0.728687</td>\n",
       "      <td>0.800713</td>\n",
       "      <td>1.000000</td>\n",
       "    </tr>\n",
       "  </tbody>\n",
       "</table>\n",
       "</div>"
      ],
      "text/plain": [
       "                effective_cost    quoted  prop_quoted  effective  \\\n",
       "effective_cost        1.000000  0.441290     0.727917   0.800894   \n",
       "quoted                0.441290  1.000000     0.628526   0.717246   \n",
       "prop_quoted           0.727917  0.628526     1.000000   0.514979   \n",
       "effective             0.800894  0.717246     0.514979   1.000000   \n",
       "prop_effective        0.999847  0.442053     0.728687   0.800713   \n",
       "\n",
       "                prop_effective  \n",
       "effective_cost        0.999847  \n",
       "quoted                0.442053  \n",
       "prop_quoted           0.728687  \n",
       "effective             0.800713  \n",
       "prop_effective        1.000000  "
      ]
     },
     "execution_count": 11,
     "metadata": {},
     "output_type": "execute_result"
    }
   ],
   "source": [
    "spread_meas.corr()"
   ]
  },
  {
   "cell_type": "markdown",
   "metadata": {},
   "source": [
    "All right, now the question how we can make use of these variables? This is the point where Principal Component Analysis (PCA) comes into the stage. Utilizing PCA, you will be able to obtain components by which you can represent a significant portion of the variance of the original data (`bid_ask`)."
   ]
  },
  {
   "cell_type": "code",
   "execution_count": 12,
   "metadata": {},
   "outputs": [],
   "source": [
    "from sklearn.decomposition import PCA\n",
    "from sklearn.preprocessing import StandardScaler"
   ]
  },
  {
   "cell_type": "markdown",
   "metadata": {},
   "source": [
    "As you have 5 variables (bid-ask spreads), the number of components will be 5 at first in running PCA. Then, you check the variance explained. In theory, there are different methods used to define the optimal number of components. Of them, cutting-off the analysis when you reached a point at which principal components can account for 80\\% of the variance of original data makes sense for practical purpose."
   ]
  },
  {
   "cell_type": "markdown",
   "metadata": {},
   "source": [
    "So, depending on the number of components used to account for 80\\% of the variance, it becomes the optimal number of components."
   ]
  },
  {
   "cell_type": "code",
   "execution_count": 13,
   "metadata": {},
   "outputs": [],
   "source": [
    "scaler = StandardScaler()\n",
    "spread_meas_scaled = scaler.fit_transform(np.abs(spread_meas))\n",
    "pca = PCA(n_components=5)\n",
    "prin_comp = pca.fit_transform(spread_meas_scaled)"
   ]
  },
  {
   "cell_type": "markdown",
   "metadata": {},
   "source": [
    "It turns out first two components are able to explain the 80\\% of the variance and 2 components is the optimum number for us."
   ]
  },
  {
   "cell_type": "code",
   "execution_count": 14,
   "metadata": {},
   "outputs": [
    {
     "name": "stdout",
     "output_type": "stream",
     "text": [
      "Individually Explained Variances are:\n",
      "[0.7494 0.1461 0.0983 0.0062 0.    ]\n",
      "============================================================\n",
      "Cumulative Explained Variances are: [0.7494 0.8955 0.9938 1.     1.    ]\n"
     ]
    }
   ],
   "source": [
    "var_expl = np.round(pca.explained_variance_ratio_, decimals=4)\n",
    "cum_var = np.cumsum(np.round(pca.explained_variance_ratio_,\n",
    "                             decimals=4))\n",
    "print('Individually Explained Variances are:\\n{}'.format(var_expl)) \n",
    "print('=='*30)\n",
    "print('Cumulative Explained Variances are: {}'.format(cum_var))  "
   ]
  },
  {
   "cell_type": "code",
   "execution_count": 15,
   "metadata": {},
   "outputs": [
    {
     "data": {
      "image/png": "[encoded data removed]",
      "text/plain": [
       "<Figure size 432x288 with 1 Axes>"
      ]
     },
     "metadata": {
      "needs_background": "light"
     },
     "output_type": "display_data"
    }
   ],
   "source": [
    "plt.plot(pca.explained_variance_ratio_)\n",
    "plt.xlabel('Number of Components')\n",
    "plt.ylabel('Variance Explained')\n",
    "plt.title('Scree Plot')\n",
    "plt.show()"
   ]
  },
  {
   "cell_type": "markdown",
   "metadata": {},
   "source": [
    "So, let's re-run the PCA with 2 components as we found the optimal number of components."
   ]
  },
  {
   "cell_type": "code",
   "execution_count": 16,
   "metadata": {},
   "outputs": [
    {
     "name": "stdout",
     "output_type": "stream",
     "text": [
      "[65.65640435 19.29704671]\n"
     ]
    }
   ],
   "source": [
    "pca = PCA(n_components=2)\n",
    "pca.fit(np.abs(spread_meas_scaled))\n",
    "prin_comp = pca.transform(np.abs(spread_meas_scaled))\n",
    "prin_comp = pd.DataFrame(np.abs(prin_comp), columns = ['Component 1',\n",
    "                                                       'Component 2'])\n",
    "print(pca.explained_variance_ratio_ * 100)  "
   ]
  },
  {
   "cell_type": "markdown",
   "metadata": {},
   "source": [
    "This is the crucial part. Because, you need to define a way in which you can use the principal components in the analysis. One of the ways is to calculate mean value of these two principal components. But before doing this, you need to rescale the principal components as you standardized the data before running PCA."
   ]
  },
  {
   "cell_type": "markdown",
   "metadata": {},
   "source": [
    "Recall the standardization formula, which is:"
   ]
  },
  {
   "cell_type": "markdown",
   "metadata": {},
   "source": [
    "\\begin{equation}\n",
    "z = \\frac{x - \\mu}{\\sigma}\n",
    "\\end{equation}"
   ]
  },
  {
   "cell_type": "markdown",
   "metadata": {},
   "source": [
    "Thus, if you leave x alone, the formula you need to apply for rescaling emerges:"
   ]
  },
  {
   "cell_type": "markdown",
   "metadata": {},
   "source": [
    "\\begin{equation}\n",
    "x = z *\\sigma + \\mu \n",
    "\\end{equation}"
   ]
  },
  {
   "cell_type": "code",
   "execution_count": 17,
   "metadata": {},
   "outputs": [
    {
     "data": {
      "text/html": [
       "<div>\n",
       "<style scoped>\n",
       "    .dataframe tbody tr th:only-of-type {\n",
       "        vertical-align: middle;\n",
       "    }\n",
       "\n",
       "    .dataframe tbody tr th {\n",
       "        vertical-align: top;\n",
       "    }\n",
       "\n",
       "    .dataframe thead th {\n",
       "        text-align: right;\n",
       "    }\n",
       "</style>\n",
       "<table border=\"1\" class=\"dataframe\">\n",
       "  <thead>\n",
       "    <tr style=\"text-align: right;\">\n",
       "      <th></th>\n",
       "      <th>Component 1</th>\n",
       "      <th>Component 2</th>\n",
       "    </tr>\n",
       "  </thead>\n",
       "  <tbody>\n",
       "    <tr>\n",
       "      <th>0</th>\n",
       "      <td>1.766661</td>\n",
       "      <td>1.256192</td>\n",
       "    </tr>\n",
       "    <tr>\n",
       "      <th>1</th>\n",
       "      <td>4.835170</td>\n",
       "      <td>1.939466</td>\n",
       "    </tr>\n",
       "    <tr>\n",
       "      <th>2</th>\n",
       "      <td>3.611486</td>\n",
       "      <td>1.551059</td>\n",
       "    </tr>\n",
       "    <tr>\n",
       "      <th>3</th>\n",
       "      <td>0.962666</td>\n",
       "      <td>0.601529</td>\n",
       "    </tr>\n",
       "    <tr>\n",
       "      <th>4</th>\n",
       "      <td>0.831065</td>\n",
       "      <td>0.734612</td>\n",
       "    </tr>\n",
       "  </tbody>\n",
       "</table>\n",
       "</div>"
      ],
      "text/plain": [
       "   Component 1  Component 2\n",
       "0     1.766661     1.256192\n",
       "1     4.835170     1.939466\n",
       "2     3.611486     1.551059\n",
       "3     0.962666     0.601529\n",
       "4     0.831065     0.734612"
      ]
     },
     "execution_count": 17,
     "metadata": {},
     "output_type": "execute_result"
    }
   ],
   "source": [
    "prin_comp1_rescaled = prin_comp.iloc[:,0] * prin_comp.iloc[:,0].std()\\\n",
    "                      + prin_comp.iloc[:, 0].mean()\n",
    "prin_comp2_rescaled = prin_comp.iloc[:,1] * prin_comp.iloc[:,1].std()\\\n",
    "                      + prin_comp.iloc[:, 1].mean()\n",
    "prin_comp_rescaled = pd.concat([prin_comp1_rescaled, \n",
    "                                prin_comp2_rescaled],\n",
    "                               axis=1)\n",
    "prin_comp_rescaled.head()"
   ]
  },
  {
   "cell_type": "markdown",
   "metadata": {},
   "source": [
    "Then, you are ready to calculate the mean value of the principal components to end up with a single variable representing both components."
   ]
  },
  {
   "cell_type": "code",
   "execution_count": 18,
   "metadata": {},
   "outputs": [
    {
     "data": {
      "text/plain": [
       "1.0647130086973808"
      ]
     },
     "execution_count": 18,
     "metadata": {},
     "output_type": "execute_result"
    }
   ],
   "source": [
    "mean_pca_liq = prin_comp_rescaled.mean(axis=1).mean()\n",
    "mean_pca_liq"
   ]
  },
  {
   "cell_type": "markdown",
   "metadata": {},
   "source": [
    "Liqudity adjusted VaR, VaR_Liq, formula is given below. The formula consists of two part:\n",
    "\n",
    "* VaR and\n",
    "* Liqudity adjustment"
   ]
  },
  {
   "cell_type": "markdown",
   "metadata": {},
   "source": [
    "\\begin{equation}\n",
    "\\text{VaR_Liq}= \\text{VaR} +\\text{Liquidity Adjustment}\n",
    "\\end{equation}"
   ]
  },
  {
   "cell_type": "markdown",
   "metadata": {},
   "source": [
    "\\begin{equation}\n",
    "\\text{VaR_Liq}= \\text{VaR} + \\frac{1}{2}P_{mid}(\\mu_{pca}+k\\sigma_{pca})\n",
    "\\end{equation}"
   ]
  },
  {
   "cell_type": "markdown",
   "metadata": {},
   "source": [
    "For the given confidence level of 95\\%, standard normal distribution percentile become 1.96, which is represented by k."
   ]
  },
  {
   "cell_type": "markdown",
   "metadata": {},
   "source": [
    "So, let's put the pieces together and interpret the result of liqudity adjusted VaR."
   ]
  },
  {
   "cell_type": "code",
   "execution_count": 19,
   "metadata": {},
   "outputs": [],
   "source": [
    "pca_std = prin_comp_rescaled.mean(axis=1).std()\n",
    "pm = bid_ask['mid_price'].mean()\n",
    "k = 1.96"
   ]
  },
  {
   "cell_type": "code",
   "execution_count": 20,
   "metadata": {},
   "outputs": [],
   "source": [
    "def LVaR (VaR_param, pm, mean_pca_liq, k, pca_std):\n",
    "    LVaR = VaR_param + (1/2) * pm * (mean_pca_liq + k * pca_std)\n",
    "    print('The liquidity Adjusted VaR is {}'.format(np.round(LVaR, 2)))"
   ]
  },
  {
   "cell_type": "code",
   "execution_count": 21,
   "metadata": {},
   "outputs": [
    {
     "ename": "NameError",
     "evalue": "name 'VaR_param' is not defined",
     "output_type": "error",
     "traceback": [
      "\u001b[0;31m---------------------------------------------------------------------------\u001b[0m",
      "\u001b[0;31mNameError\u001b[0m                                 Traceback (most recent call last)",
      "\u001b[0;32m<ipython-input-21-0352cdc6d90a>\u001b[0m in \u001b[0;36m<module>\u001b[0;34m\u001b[0m\n\u001b[0;32m----> 1\u001b[0;31m \u001b[0mLVaR\u001b[0m \u001b[0;34m(\u001b[0m\u001b[0mVaR_param\u001b[0m\u001b[0;34m,\u001b[0m \u001b[0mpm\u001b[0m\u001b[0;34m,\u001b[0m \u001b[0mmean_pca_liq\u001b[0m\u001b[0;34m,\u001b[0m \u001b[0mk\u001b[0m\u001b[0;34m,\u001b[0m \u001b[0mpca_std\u001b[0m\u001b[0;34m)\u001b[0m\u001b[0;34m\u001b[0m\u001b[0;34m\u001b[0m\u001b[0m\n\u001b[0m",
      "\u001b[0;31mNameError\u001b[0m: name 'VaR_param' is not defined"
     ]
    }
   ],
   "source": [
    "LVaR (VaR_param, pm, mean_pca_liq, k, pca_std)"
   ]
  },
  {
   "cell_type": "markdown",
   "metadata": {},
   "source": [
    "As expected, when liqudity dimension is considered the expected loss turns out to be greater than the palin VaR application. To be more concrete, liquidity adjusted VaR is $\\$55142$, which is almost $\\$5000$ greater than the variance-covariance VaR result, which is $55030.97."
   ]
  },
  {
   "cell_type": "markdown",
   "metadata": {},
   "source": [
    "Long story short, taking liquidity into account in estimating the market risk gives us a more realiable and encompassing result."
   ]
  }
 ],
 "metadata": {
  "kernelspec": {
   "display_name": "Python 3",
   "language": "python",
   "name": "python3"
  },
  "language_info": {
   "codemirror_mode": {
    "name": "ipython",
    "version": 3
   },
   "file_extension": ".py",
   "mimetype": "text/x-python",
   "name": "python",
   "nbconvert_exporter": "python",
   "pygments_lexer": "ipython3",
   "version": "3.7.3"
  },
  "toc": {
   "base_numbering": 1,
   "nav_menu": {},
   "number_sections": true,
   "sideBar": true,
   "skip_h1_title": false,
   "title_cell": "Table of Contents",
   "title_sidebar": "Contents",
   "toc_cell": false,
   "toc_position": {},
   "toc_section_display": true,
   "toc_window_display": false
  }
 },
 "nbformat": 4,
 "nbformat_minor": 5
}
