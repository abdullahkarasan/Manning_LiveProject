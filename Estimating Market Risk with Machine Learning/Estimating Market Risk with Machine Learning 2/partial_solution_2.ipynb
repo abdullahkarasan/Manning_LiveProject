{
 "cells": [
  {
   "cell_type": "code",
   "execution_count": 1,
   "metadata": {},
   "outputs": [],
   "source": [
    "import pandas as pd\n",
    "import numpy as np\n",
    "import matplotlib.pyplot as plt\n",
    "import datetime\n",
    "import yfinance as yf\n",
    "import warnings\n",
    "warnings.filterwarnings('ignore')"
   ]
  },
  {
   "cell_type": "markdown",
   "metadata": {},
   "source": [
    "All right, now the question how we can make use of these variables? This is the point where Principal Component Analysis (PCA) comes into the stage. Utilizing PCA, you will be able to obtain components by which you can represent a significant portion of the variance of the original data (`bid_ask`)."
   ]
  },
  {
   "cell_type": "code",
   "execution_count": 2,
   "metadata": {},
   "outputs": [],
   "source": [
    "#Let's import the spread measure that you generated before.\n",
    "spread_meas = pd.read_csv('spread_meas.csv')"
   ]
  },
  {
   "cell_type": "code",
   "execution_count": 3,
   "metadata": {},
   "outputs": [],
   "source": [
    "from sklearn.decomposition import PCA\n",
    "from sklearn.preprocessing import StandardScaler"
   ]
  },
  {
   "cell_type": "markdown",
   "metadata": {},
   "source": [
    "As you have 5 variables (bid-ask spreads), the number of components will be 5 at first in running PCA. Then, you check the variance explained. In theory, there are different methods used to define the optimal number of components. Of them, cutting-off the analysis when you reached a point at which principal components can account for 80\\% of the variance of original data makes sense for practical purpose."
   ]
  },
  {
   "cell_type": "markdown",
   "metadata": {},
   "source": [
    "So, depending on the number of components used to account for 80\\% of the variance, it becomes the optimal number of components."
   ]
  },
  {
   "cell_type": "code",
   "execution_count": 4,
   "metadata": {},
   "outputs": [],
   "source": [
    "scaler = StandardScaler()\n",
    "spread_meas_scaled = scaler.fit_transform(np.abs(spread_meas))\n",
    "pca = PCA(n_components=5)\n",
    "prin_comp = pca.fit_transform(spread_meas_scaled)"
   ]
  },
  {
   "cell_type": "markdown",
   "metadata": {},
   "source": [
    "It turns out first two components are able to explain the 80\\% of the variance and 2 components is the optimum number for us."
   ]
  },
  {
   "cell_type": "code",
   "execution_count": 5,
   "metadata": {},
   "outputs": [
    {
     "name": "stdout",
     "output_type": "stream",
     "text": [
      "Individually Explained Variances are:\n",
      "[0.6245 0.241  0.1001 0.03   0.0043]\n",
      "============================================================\n",
      "Cumulative Explained Variances are: [0.6245 0.8655 0.9656 0.9956 0.9999]\n"
     ]
    }
   ],
   "source": [
    "var_expl = np.round(pca.explained_variance_ratio_, decimals=4)\n",
    "cum_var = np.cumsum(np.round(pca.explained_variance_ratio_,\n",
    "                             decimals=4))\n",
    "print('Individually Explained Variances are:\\n{}'.format(var_expl)) \n",
    "print('=='*30)\n",
    "print('Cumulative Explained Variances are: {}'.format(cum_var))  "
   ]
  },
  {
   "cell_type": "code",
   "execution_count": 6,
   "metadata": {},
   "outputs": [
    {
     "data": {
      "image/png": "[encoded data removed]",
      "text/plain": [
       "<Figure size 432x288 with 1 Axes>"
      ]
     },
     "metadata": {
      "needs_background": "light"
     },
     "output_type": "display_data"
    }
   ],
   "source": [
    "plt.plot(pca.explained_variance_ratio_)\n",
    "plt.xlabel('Number of Components')\n",
    "plt.ylabel('Variance Explained')\n",
    "plt.title('Scree Plot')\n",
    "plt.show()"
   ]
  },
  {
   "cell_type": "markdown",
   "metadata": {},
   "source": [
    "So, let's re-run the PCA with 2 components as we found the optimal number of components."
   ]
  },
  {
   "cell_type": "code",
   "execution_count": 7,
   "metadata": {},
   "outputs": [
    {
     "name": "stdout",
     "output_type": "stream",
     "text": [
      "[59.05686666 17.4739071 ]\n"
     ]
    }
   ],
   "source": [
    "pca = PCA(n_components=2)\n",
    "pca.fit(np.abs(spread_meas_scaled))\n",
    "prin_comp = pca.transform(np.abs(spread_meas_scaled))\n",
    "prin_comp = pd.DataFrame(np.abs(prin_comp), columns = ['Component 1',\n",
    "                                                       'Component 2'])\n",
    "print(pca.explained_variance_ratio_ * 100)  "
   ]
  },
  {
   "cell_type": "code",
   "execution_count": 9,
   "metadata": {},
   "outputs": [],
   "source": [
    "prin_comp = prin_comp.to_csv('prin_comp.csv')"
   ]
  },
  {
   "cell_type": "markdown",
   "metadata": {},
   "source": [
    "This is the crucial part. Because, you need to define a way in which you can use the principal components in the analysis. One of the ways is to calculate mean value of these two principal components. But before doing this, you need to rescale the principal components as you standardized the data before running PCA."
   ]
  },
  {
   "cell_type": "markdown",
   "metadata": {},
   "source": [
    "Recall the standardization formula, which is:"
   ]
  },
  {
   "cell_type": "markdown",
   "metadata": {},
   "source": [
    "\\begin{equation}\n",
    "z = \\frac{x - \\mu}{\\sigma}\n",
    "\\end{equation}"
   ]
  },
  {
   "cell_type": "markdown",
   "metadata": {},
   "source": [
    "Thus, if you leave x alone, the formula you need to apply for rescaling emerges:"
   ]
  },
  {
   "cell_type": "markdown",
   "metadata": {},
   "source": [
    "\\begin{equation}\n",
    "x = z *\\sigma + \\mu \n",
    "\\end{equation}"
   ]
  },
  {
   "cell_type": "code",
   "execution_count": 8,
   "metadata": {},
   "outputs": [
    {
     "data": {
      "text/html": [
       "<div>\n",
       "<style scoped>\n",
       "    .dataframe tbody tr th:only-of-type {\n",
       "        vertical-align: middle;\n",
       "    }\n",
       "\n",
       "    .dataframe tbody tr th {\n",
       "        vertical-align: top;\n",
       "    }\n",
       "\n",
       "    .dataframe thead th {\n",
       "        text-align: right;\n",
       "    }\n",
       "</style>\n",
       "<table border=\"1\" class=\"dataframe\">\n",
       "  <thead>\n",
       "    <tr style=\"text-align: right;\">\n",
       "      <th></th>\n",
       "      <th>Component 1</th>\n",
       "      <th>Component 2</th>\n",
       "    </tr>\n",
       "  </thead>\n",
       "  <tbody>\n",
       "    <tr>\n",
       "      <th>0</th>\n",
       "      <td>1.763023</td>\n",
       "      <td>1.318156</td>\n",
       "    </tr>\n",
       "    <tr>\n",
       "      <th>1</th>\n",
       "      <td>4.831684</td>\n",
       "      <td>2.000901</td>\n",
       "    </tr>\n",
       "    <tr>\n",
       "      <th>2</th>\n",
       "      <td>3.607953</td>\n",
       "      <td>1.615184</td>\n",
       "    </tr>\n",
       "    <tr>\n",
       "      <th>3</th>\n",
       "      <td>0.959223</td>\n",
       "      <td>0.650714</td>\n",
       "    </tr>\n",
       "    <tr>\n",
       "      <th>4</th>\n",
       "      <td>0.834418</td>\n",
       "      <td>0.787859</td>\n",
       "    </tr>\n",
       "  </tbody>\n",
       "</table>\n",
       "</div>"
      ],
      "text/plain": [
       "   Component 1  Component 2\n",
       "0     1.763023     1.318156\n",
       "1     4.831684     2.000901\n",
       "2     3.607953     1.615184\n",
       "3     0.959223     0.650714\n",
       "4     0.834418     0.787859"
      ]
     },
     "execution_count": 8,
     "metadata": {},
     "output_type": "execute_result"
    }
   ],
   "source": [
    "prin_comp1_rescaled = prin_comp.iloc[:,0] * prin_comp.iloc[:,0].std()\\\n",
    "                      + prin_comp.iloc[:, 0].mean()\n",
    "prin_comp2_rescaled = prin_comp.iloc[:,1] * prin_comp.iloc[:,1].std()\\\n",
    "                      + prin_comp.iloc[:, 1].mean()\n",
    "prin_comp_rescaled = pd.concat([prin_comp1_rescaled, \n",
    "                                prin_comp2_rescaled],\n",
    "                               axis=1)\n",
    "prin_comp_rescaled.head()"
   ]
  }
 ],
 "metadata": {
  "kernelspec": {
   "display_name": "Python 3",
   "language": "python",
   "name": "python3"
  },
  "language_info": {
   "codemirror_mode": {
    "name": "ipython",
    "version": 3
   },
   "file_extension": ".py",
   "mimetype": "text/x-python",
   "name": "python",
   "nbconvert_exporter": "python",
   "pygments_lexer": "ipython3",
   "version": "3.7.3"
  },
  "toc": {
   "base_numbering": 1,
   "nav_menu": {},
   "number_sections": true,
   "sideBar": true,
   "skip_h1_title": false,
   "title_cell": "Table of Contents",
   "title_sidebar": "Contents",
   "toc_cell": false,
   "toc_position": {},
   "toc_section_display": true,
   "toc_window_display": false
  }
 },
 "nbformat": 4,
 "nbformat_minor": 5
}
