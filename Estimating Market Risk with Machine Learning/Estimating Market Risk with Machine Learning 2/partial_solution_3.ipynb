{
 "cells": [
  {
   "cell_type": "code",
   "execution_count": 1,
   "metadata": {},
   "outputs": [],
   "source": [
    "import pandas as pd\n",
    "import numpy as np\n",
    "import matplotlib.pyplot as plt\n",
    "import datetime\n",
    "import yfinance as yf\n",
    "import warnings\n",
    "warnings.filterwarnings('ignore')"
   ]
  },
  {
   "cell_type": "code",
   "execution_count": 2,
   "metadata": {},
   "outputs": [],
   "source": [
    "#Let's import the spread measure that you generated before.\n",
    "spread_meas = pd.read_csv('spread_meas.csv')"
   ]
  },
  {
   "cell_type": "code",
   "execution_count": 5,
   "metadata": {},
   "outputs": [],
   "source": [
    "prin_comp = pd.read_csv('prin_comp.csv')\n",
    "del prin_comp['Unnamed: 0']"
   ]
  },
  {
   "cell_type": "code",
   "execution_count": 6,
   "metadata": {},
   "outputs": [
    {
     "data": {
      "text/html": [
       "<div>\n",
       "<style scoped>\n",
       "    .dataframe tbody tr th:only-of-type {\n",
       "        vertical-align: middle;\n",
       "    }\n",
       "\n",
       "    .dataframe tbody tr th {\n",
       "        vertical-align: top;\n",
       "    }\n",
       "\n",
       "    .dataframe thead th {\n",
       "        text-align: right;\n",
       "    }\n",
       "</style>\n",
       "<table border=\"1\" class=\"dataframe\">\n",
       "  <thead>\n",
       "    <tr style=\"text-align: right;\">\n",
       "      <th></th>\n",
       "      <th>Component 1</th>\n",
       "      <th>Component 2</th>\n",
       "    </tr>\n",
       "  </thead>\n",
       "  <tbody>\n",
       "    <tr>\n",
       "      <th>0</th>\n",
       "      <td>1.763023</td>\n",
       "      <td>1.318156</td>\n",
       "    </tr>\n",
       "    <tr>\n",
       "      <th>1</th>\n",
       "      <td>4.831684</td>\n",
       "      <td>2.000901</td>\n",
       "    </tr>\n",
       "    <tr>\n",
       "      <th>2</th>\n",
       "      <td>3.607953</td>\n",
       "      <td>1.615184</td>\n",
       "    </tr>\n",
       "    <tr>\n",
       "      <th>3</th>\n",
       "      <td>0.959223</td>\n",
       "      <td>0.650714</td>\n",
       "    </tr>\n",
       "    <tr>\n",
       "      <th>4</th>\n",
       "      <td>0.834418</td>\n",
       "      <td>0.787859</td>\n",
       "    </tr>\n",
       "  </tbody>\n",
       "</table>\n",
       "</div>"
      ],
      "text/plain": [
       "   Component 1  Component 2\n",
       "0     1.763023     1.318156\n",
       "1     4.831684     2.000901\n",
       "2     3.607953     1.615184\n",
       "3     0.959223     0.650714\n",
       "4     0.834418     0.787859"
      ]
     },
     "execution_count": 6,
     "metadata": {},
     "output_type": "execute_result"
    }
   ],
   "source": [
    "prin_comp1_rescaled = prin_comp.iloc[:,0] * prin_comp.iloc[:,0].std()\\\n",
    "                      + prin_comp.iloc[:, 0].mean()\n",
    "prin_comp2_rescaled = prin_comp.iloc[:,1] * prin_comp.iloc[:,1].std()\\\n",
    "                      + prin_comp.iloc[:, 1].mean()\n",
    "prin_comp_rescaled = pd.concat([prin_comp1_rescaled, \n",
    "                                prin_comp2_rescaled],\n",
    "                               axis=1)\n",
    "prin_comp_rescaled.head()"
   ]
  },
  {
   "cell_type": "code",
   "execution_count": 11,
   "metadata": {},
   "outputs": [],
   "source": [
    "prin_comp_rescaled = pd.read_csv('prin_comp_rescaled.csv')\n",
    "del prin_comp_rescaled['Unnamed: 0']\n",
    "bid_ask = pd.read_csv('bid_ask.csv')"
   ]
  },
  {
   "cell_type": "markdown",
   "metadata": {},
   "source": [
    "Then, you are ready to calculate the mean value of the principal components to end up with a single variable representing both components."
   ]
  },
  {
   "cell_type": "code",
   "execution_count": 12,
   "metadata": {},
   "outputs": [
    {
     "data": {
      "text/plain": [
       "1.0629549058506582"
      ]
     },
     "execution_count": 12,
     "metadata": {},
     "output_type": "execute_result"
    }
   ],
   "source": [
    "mean_pca_liq = prin_comp_rescaled.mean(axis=1).mean()\n",
    "mean_pca_liq"
   ]
  },
  {
   "cell_type": "markdown",
   "metadata": {},
   "source": [
    "Liqudity adjusted VaR, VaR_Liq, formula is given below. The formula consists of two part:\n",
    "\n",
    "* VaR and\n",
    "* Liqudity adjustment"
   ]
  },
  {
   "cell_type": "markdown",
   "metadata": {},
   "source": [
    "\\begin{equation}\n",
    "\\text{VaR_Liq}= \\text{VaR} +\\text{Liquidity Adjustment}\n",
    "\\end{equation}"
   ]
  },
  {
   "cell_type": "markdown",
   "metadata": {},
   "source": [
    "\\begin{equation}\n",
    "\\text{VaR_Liq}= \\text{VaR} + \\frac{1}{2}P_{mid}(\\mu_{pca}+k\\sigma_{pca})\n",
    "\\end{equation}"
   ]
  },
  {
   "cell_type": "markdown",
   "metadata": {},
   "source": [
    "For the given confidence level of 95\\%, standard normal distribution percentile become 1.96, which is represented by k."
   ]
  },
  {
   "cell_type": "markdown",
   "metadata": {},
   "source": [
    "So, let's put the pieces together and interpret the result of liqudity adjusted VaR."
   ]
  },
  {
   "cell_type": "code",
   "execution_count": 15,
   "metadata": {},
   "outputs": [],
   "source": [
    "#First, let's import the bid-ask spread data that \n",
    "#you have produced before.\n",
    "bid_ask = pd.read_csv('bid_ask_revised.csv')"
   ]
  },
  {
   "cell_type": "code",
   "execution_count": 16,
   "metadata": {},
   "outputs": [],
   "source": [
    "pca_std = prin_comp_rescaled.mean(axis=1).std()\n",
    "pm = bid_ask['mid_price'].mean()\n",
    "k = 1.96"
   ]
  },
  {
   "cell_type": "code",
   "execution_count": 17,
   "metadata": {},
   "outputs": [],
   "source": [
    "# You know the value of variance-covariance VaR from previous project.\n",
    "VaR_param = 56073.26"
   ]
  },
  {
   "cell_type": "code",
   "execution_count": 18,
   "metadata": {},
   "outputs": [],
   "source": [
    "def LVaR (VaR_param, pm, mean_pca_liq, k, pca_std):\n",
    "    LVaR = VaR_param + (1/2) * pm * (mean_pca_liq + k * pca_std)\n",
    "    print('The liquidity Adjusted VaR is {}'.format(np.round(LVaR, 2)))"
   ]
  },
  {
   "cell_type": "code",
   "execution_count": 19,
   "metadata": {},
   "outputs": [
    {
     "name": "stdout",
     "output_type": "stream",
     "text": [
      "The liquidity Adjusted VaR is 56185.2\n"
     ]
    }
   ],
   "source": [
    "LVaR (VaR_param, pm, mean_pca_liq, k, pca_std)"
   ]
  },
  {
   "cell_type": "markdown",
   "metadata": {},
   "source": [
    "As expected, when liqudity dimension is considered the expected loss turns out to be greater than the palin VaR application. To be more concrete, liquidity adjusted VaR is $\\$56185.2$, which is almost $\\$1000$ greater than the variance-covariance VaR result, which is $55030.97."
   ]
  },
  {
   "cell_type": "markdown",
   "metadata": {},
   "source": [
    "Long story short, taking liquidity into account in estimating the market risk gives us a more realiable and encompassing result."
   ]
  }
 ],
 "metadata": {
  "kernelspec": {
   "display_name": "Python 3",
   "language": "python",
   "name": "python3"
  },
  "language_info": {
   "codemirror_mode": {
    "name": "ipython",
    "version": 3
   },
   "file_extension": ".py",
   "mimetype": "text/x-python",
   "name": "python",
   "nbconvert_exporter": "python",
   "pygments_lexer": "ipython3",
   "version": "3.7.3"
  },
  "toc": {
   "base_numbering": 1,
   "nav_menu": {},
   "number_sections": true,
   "sideBar": true,
   "skip_h1_title": false,
   "title_cell": "Table of Contents",
   "title_sidebar": "Contents",
   "toc_cell": false,
   "toc_position": {},
   "toc_section_display": true,
   "toc_window_display": false
  }
 },
 "nbformat": 4,
 "nbformat_minor": 5
}
