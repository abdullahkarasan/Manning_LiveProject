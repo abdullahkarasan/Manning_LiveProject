{
 "cells": [
  {
   "cell_type": "code",
   "execution_count": 10,
   "id": "defd63c6",
   "metadata": {},
   "outputs": [],
   "source": [
    "import pandas as pd\n",
    "import numpy as np\n",
    "from scipy.stats import norm\n",
    "import matplotlib.pyplot as plt\n",
    "import warnings\n",
    "warnings.filterwarnings('ignore')"
   ]
  },
  {
   "cell_type": "markdown",
   "id": "f838826e",
   "metadata": {},
   "source": [
    "Let's import first the stock returns, weights, and other variables you generated in the previous notebook as well as variance-covariance VaR calculation:\n"
   ]
  },
  {
   "cell_type": "code",
   "execution_count": 11,
   "id": "544f4965",
   "metadata": {},
   "outputs": [],
   "source": [
    "stocks_returns = pd.read_csv('stocks_returns.csv')\n",
    "stocks_returns = stocks_returns.set_index('Date')\n",
    "weights = np.load('weights.npy')\n",
    "total_asset = 1e6\n",
    "conf_level = 0.95\n",
    "t = 5"
   ]
  },
  {
   "cell_type": "code",
   "execution_count": 12,
   "id": "77bc95fc",
   "metadata": {},
   "outputs": [
    {
     "data": {
      "text/plain": [
       "56073.26"
      ]
     },
     "execution_count": 12,
     "metadata": {},
     "output_type": "execute_result"
    }
   ],
   "source": [
    "stocks_returns_mean = stocks_returns.mean().mean()\n",
    "cov_var = stocks_returns.cov()\n",
    "port_std = np.sqrt(weights.T.dot(cov_var).dot(weights))\n",
    "\n",
    "def VaR_parametric(total_asset, conf_level, port_std, t):\n",
    "    alpha = norm.ppf(conf_level, stocks_returns_mean)\n",
    "    VaR_param = np.round((total_asset * port_std * np.sqrt(t) * alpha), 2)\n",
    "    return VaR_param\n",
    "\n",
    "VaR_param = VaR_parametric(total_asset, conf_level, port_std, t)\n",
    "VaR_param"
   ]
  },
  {
   "cell_type": "markdown",
   "id": "4f94d238",
   "metadata": {},
   "source": [
    "# Expected Shortfall"
   ]
  },
  {
   "cell_type": "markdown",
   "id": "a21036dd",
   "metadata": {},
   "source": [
    "Unlike VaR, Expected Shortfall focuses on the tail of the distribution. More elaboratively, Expected Shortfall enable us to take into account the unexpected risks in the market. However, it does not mean that Expected Shortfall and VaR are two entirely different concepts. Rather, they are related, that is, it is possible to express Expected Shortfall using VaR.\n"
   ]
  },
  {
   "cell_type": "markdown",
   "id": "889599ad",
   "metadata": {},
   "source": [
    " Expected Shortfall formula suggests that it is nothing but a probability weighted average of $(1-\\alpha)%$ of losses. "
   ]
  },
  {
   "cell_type": "markdown",
   "id": "3cd1c38b",
   "metadata": {},
   "source": [
    "\\begin{equation}\n",
    "\\text{ES}_{\\alpha}=\\frac{1}{1-\\alpha}\\int^1_{\\alpha} q_u du\n",
    "\\end{equation}"
   ]
  },
  {
   "cell_type": "markdown",
   "id": "23069c04",
   "metadata": {},
   "source": [
    "where q denotes quantile of the loss distribution. So, all we need to do is to calculate the VAR based on the quantile (q) and then calculate the integral, which will be done using `expect` function below."
   ]
  },
  {
   "cell_type": "markdown",
   "id": "604f6d99",
   "metadata": {},
   "source": [
    "Let's now calculate the expected shortfall using the above-provided formula using Python:"
   ]
  },
  {
   "cell_type": "code",
   "execution_count": 13,
   "id": "9dc1ca1a",
   "metadata": {},
   "outputs": [],
   "source": [
    "def ES(initial_investment, conf_level, port_std, stocks_returns_mean):\n",
    "    alpha = norm.ppf(conf_level, stocks_returns_mean, port_std)\n",
    "    VaR_param = VaR_parametric(total_asset, conf_level, port_std, t)\n",
    "    ES_result = (1 / (1 - conf_level)) * norm.expect(lambda x:  VaR_param, \n",
    "                                                                  lb = 1 - conf_level)\n",
    "    return np.round(ES_result, 2)"
   ]
  },
  {
   "cell_type": "code",
   "execution_count": 14,
   "id": "24e5aeec",
   "metadata": {},
   "outputs": [
    {
     "data": {
      "text/plain": [
       "538371.92"
      ]
     },
     "execution_count": 14,
     "metadata": {},
     "output_type": "execute_result"
    }
   ],
   "source": [
    "ES(total_asset, conf_level, port_std, stocks_returns_mean)"
   ]
  },
  {
   "cell_type": "markdown",
   "id": "84bd506c",
   "metadata": {},
   "source": [
    "It turns out $538371.92 is the average amount that is lost over a 5-day period, assuming that the loss is greater than the 95th percentile of the loss distribution."
   ]
  }
 ],
 "metadata": {
  "kernelspec": {
   "display_name": "Python 3 (ipykernel)",
   "language": "python",
   "name": "python3"
  },
  "language_info": {
   "codemirror_mode": {
    "name": "ipython",
    "version": 3
   },
   "file_extension": ".py",
   "mimetype": "text/x-python",
   "name": "python",
   "nbconvert_exporter": "python",
   "pygments_lexer": "ipython3",
   "version": "3.9.7"
  },
  "toc": {
   "base_numbering": 1,
   "nav_menu": {},
   "number_sections": true,
   "sideBar": true,
   "skip_h1_title": false,
   "title_cell": "Table of Contents",
   "title_sidebar": "Contents",
   "toc_cell": false,
   "toc_position": {},
   "toc_section_display": true,
   "toc_window_display": false
  }
 },
 "nbformat": 4,
 "nbformat_minor": 5
}
