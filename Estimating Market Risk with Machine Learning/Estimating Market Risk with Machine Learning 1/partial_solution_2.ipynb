{
 "cells": [
  {
   "cell_type": "code",
   "execution_count": 1,
   "metadata": {},
   "outputs": [],
   "source": [
    "import pandas as pd\n",
    "import numpy as np\n",
    "from scipy.stats import norm\n",
    "import matplotlib.pyplot as plt\n",
    "import warnings\n",
    "warnings.filterwarnings('ignore')"
   ]
  },
  {
   "cell_type": "markdown",
   "metadata": {},
   "source": [
    "# Variance-Covariance VaR"
   ]
  },
  {
   "cell_type": "markdown",
   "metadata": {},
   "source": [
    "`Variance-Covariance` Method is also known as parametric method, because the data is assumed to be normally distributed. Variance-Covariance method is commonplace due to this assumption, however it is worth noting that returns are not normal distributed. Parametric form assumption makes the application of Variance-Covariance method practical and easy-to-apply. "
   ]
  },
  {
   "cell_type": "markdown",
   "metadata": {},
   "source": [
    "It is time to apply Value-at-Risk (VaR) method. First, we will start with Variance-Covariance VaR method. The formula of this method is given below:"
   ]
  },
  {
   "cell_type": "markdown",
   "metadata": {},
   "source": [
    "\\begin{equation}\n",
    "\\text{VaR}=V\\sigma_p\\sqrt{t}Z_{\\alpha} \n",
    "\\end{equation}"
   ]
  },
  {
   "cell_type": "markdown",
   "metadata": {},
   "source": [
    "where\n",
    "\n",
    "* V is the value of the assets.\n",
    "* $\\sigma_p$ is the standard deviation of the portfolio consisting of the assets.\n",
    "* t is the time that the company hold the assets in its porfolio.\n",
    "* $Z_{\\alpha}$ is the standard deviation multiplier given the confidence interval if the data follows a normal distribution."
   ]
  },
  {
   "cell_type": "markdown",
   "metadata": {},
   "source": [
    "Let's import first the stock returns, weights, and other variables you generated in the previous notebook as well as variance-covariance VaR calculation:\n"
   ]
  },
  {
   "cell_type": "code",
   "execution_count": 2,
   "metadata": {},
   "outputs": [],
   "source": [
    "stocks_returns = pd.read_csv('stocks_returns.csv')\n",
    "stocks_returns = stocks_returns.set_index('Date')\n",
    "weights = np.load('weights.npy')\n",
    "total_asset = 1e6\n",
    "conf_level = 0.95\n",
    "t = 5"
   ]
  },
  {
   "cell_type": "markdown",
   "metadata": {},
   "source": [
    "In order to calculate portfolio standard deviation ($\\sigma_p$), you need to have covariance matrix and stock weights. Besides, in calculating $Z_{\\alpha}$, it is required to define location parameter, which is mean of stock returns. These parameters are calculated below:"
   ]
  },
  {
   "cell_type": "code",
   "execution_count": 3,
   "metadata": {},
   "outputs": [],
   "source": [
    "stocks_returns_mean = stocks_returns.mean().mean()\n",
    "cov_var = stocks_returns.cov()\n",
    "port_std = np.sqrt(weights.T.dot(cov_var).dot(weights))"
   ]
  },
  {
   "cell_type": "markdown",
   "metadata": {},
   "source": [
    "Now, you are all set to move forward and apply formula for Variance-Covariance VaR:"
   ]
  },
  {
   "cell_type": "code",
   "execution_count": 4,
   "metadata": {},
   "outputs": [
    {
     "data": {
      "text/plain": [
       "56073.26"
      ]
     },
     "execution_count": 4,
     "metadata": {},
     "output_type": "execute_result"
    }
   ],
   "source": [
    "def VaR_parametric(total_asset, conf_level, port_std, t):\n",
    "    alpha = norm.ppf(conf_level, stocks_returns_mean)\n",
    "    VaR_param = np.round((total_asset * port_std * np.sqrt(t) * alpha), 2)\n",
    "    return VaR_param\n",
    "\n",
    "VaR_param = VaR_parametric(total_asset, conf_level, port_std, t)\n",
    "VaR_param"
   ]
  },
  {
   "cell_type": "markdown",
   "metadata": {},
   "source": [
    "The Variance-Covariance method reveals a VaR value of $\\$$56073.26, indicating that $95\\%$ of the chance the maximum loss cannot exceed $56073.26 over 5-day period."
   ]
  },
  {
   "cell_type": "markdown",
   "metadata": {},
   "source": [
    "As a side note, the effect of holding period on VaR is positive. In other words, the longer the holding period, the higher the risk it is assumed as shown below. However, the VaR value increases at decreasing rate as the time passes."
   ]
  },
  {
   "cell_type": "code",
   "execution_count": 5,
   "metadata": {},
   "outputs": [
    {
     "data": {
      "image/png": "[encoded data removed]",
      "text/plain": [
       "<Figure size 432x288 with 1 Axes>"
      ]
     },
     "metadata": {
      "needs_background": "light"
     },
     "output_type": "display_data"
    }
   ],
   "source": [
    "var_horizon = []\n",
    "time_horizon = 30\n",
    "for i in range(1, time_horizon + 1):\n",
    "    var_horizon.append(VaR_param * np.sqrt(i))\n",
    "plt.plot(var_horizon[:time_horizon], \"o\")\n",
    "plt.title('The Effect of Holding Period')\n",
    "plt.xlabel('Holding Period')\n",
    "plt.ylabel('VaR in $')\n",
    "plt.show()"
   ]
  },
  {
   "cell_type": "markdown",
   "metadata": {},
   "source": [
    "# Historical VaR"
   ]
  },
  {
   "cell_type": "markdown",
   "metadata": {},
   "source": [
    "Having strong assumption, like normal distribution, might be the cause of inaccurate  estimation. A solution to this issue is referred to as Historical Simulation VaR. This is an empirical method and instead of using parametric approach, what we do is to find the percentile, which is the Z-table equivelant of Variance-Covariance method. Pretend that the confidence interval is 95%, then 5% will be used in liue of Z-table value and all we need to do is to multiply this percentile by initial investment."
   ]
  },
  {
   "cell_type": "markdown",
   "metadata": {},
   "source": [
    "Here are the steps taken in Historical Simulation VaR:\n",
    "\n",
    "* Obtain asset returns of the portfolio (or individual asset).\n",
    "\n",
    "* Find the corresponding return percentile based on confidence interval.\n",
    "\n",
    "* Multiply this percentile by initial investment and square root of holding period."
   ]
  },
  {
   "cell_type": "markdown",
   "metadata": {},
   "source": [
    "At 95\\% of confidence level, historical VaR result is shown below:"
   ]
  },
  {
   "cell_type": "code",
   "execution_count": 6,
   "metadata": {},
   "outputs": [
    {
     "data": {
      "text/plain": [
       "array([0.33431167, 0.20184982, 0.46383851])"
      ]
     },
     "execution_count": 6,
     "metadata": {},
     "output_type": "execute_result"
    }
   ],
   "source": [
    "weights"
   ]
  },
  {
   "cell_type": "code",
   "execution_count": 7,
   "metadata": {},
   "outputs": [],
   "source": [
    "def VaR_historical(total_asset, conf_level):\n",
    "    port = (weights * stocks_returns).sum(axis=1)\n",
    "    hist_percentile95 = np.percentile(port, 95)\n",
    "    VaR_historical = np.round((total_asset * np.sqrt(t) * hist_percentile95), 2)\n",
    "    return VaR_historical"
   ]
  },
  {
   "cell_type": "code",
   "execution_count": 8,
   "metadata": {},
   "outputs": [
    {
     "data": {
      "text/plain": [
       "55311.91"
      ]
     },
     "execution_count": 8,
     "metadata": {},
     "output_type": "execute_result"
    }
   ],
   "source": [
    "VaR_historical(total_asset, conf_level)"
   ]
  },
  {
   "cell_type": "markdown",
   "metadata": {},
   "source": [
    "The result is very similar to Variance-Covariance VaR method. Accordingly, historical VaR value of $55311.91 shows that 95\\% of chance the maximum loss cannot exceed this amount over 5-day period."
   ]
  }
 ],
 "metadata": {
  "kernelspec": {
   "display_name": "Python 3",
   "language": "python",
   "name": "python3"
  },
  "language_info": {
   "codemirror_mode": {
    "name": "ipython",
    "version": 3
   },
   "file_extension": ".py",
   "mimetype": "text/x-python",
   "name": "python",
   "nbconvert_exporter": "python",
   "pygments_lexer": "ipython3",
   "version": "3.7.3"
  },
  "toc": {
   "base_numbering": 1,
   "nav_menu": {},
   "number_sections": true,
   "sideBar": true,
   "skip_h1_title": false,
   "title_cell": "Table of Contents",
   "title_sidebar": "Contents",
   "toc_cell": false,
   "toc_position": {},
   "toc_section_display": true,
   "toc_window_display": false
  }
 },
 "nbformat": 4,
 "nbformat_minor": 5
}
