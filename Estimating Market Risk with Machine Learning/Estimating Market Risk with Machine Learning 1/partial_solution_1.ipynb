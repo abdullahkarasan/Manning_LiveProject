{
 "cells": [
  {
   "cell_type": "code",
   "execution_count": 1,
   "metadata": {},
   "outputs": [],
   "source": [
    "import pandas as pd\n",
    "import numpy as np\n",
    "import matplotlib.pyplot as plt\n",
    "import datetime\n",
    "import yfinance as yf\n",
    "import warnings\n",
    "warnings.filterwarnings('ignore')"
   ]
  },
  {
   "cell_type": "markdown",
   "metadata": {},
   "source": [
    "For the sake of practice, it is assumed that the your company has only three assets, which subject to market risk. These assets are:\n",
    "\n",
    "    * JP Morgan\n",
    "    * Bank of America\n",
    "    * Morgan Stanley"
   ]
  },
  {
   "cell_type": "markdown",
   "metadata": {},
   "source": [
    "So, your portfolio consists of these three stocks."
   ]
  },
  {
   "cell_type": "code",
   "execution_count": 2,
   "metadata": {},
   "outputs": [
    {
     "name": "stdout",
     "output_type": "stream",
     "text": [
      "[*********************100%***********************]  3 of 3 completed\n"
     ]
    }
   ],
   "source": [
    "tickers = ['JPM', 'BAC', 'MS']\n",
    "stock_prices = yf.download(tickers, start='2021-10-01', \n",
    "                           end='2022-02-01', interval='1d')['Close']"
   ]
  },
  {
   "cell_type": "markdown",
   "metadata": {},
   "source": [
    "Let's observe the first five rows of the data."
   ]
  },
  {
   "cell_type": "code",
   "execution_count": 3,
   "metadata": {},
   "outputs": [
    {
     "data": {
      "text/html": [
       "<div>\n",
       "<style scoped>\n",
       "    .dataframe tbody tr th:only-of-type {\n",
       "        vertical-align: middle;\n",
       "    }\n",
       "\n",
       "    .dataframe tbody tr th {\n",
       "        vertical-align: top;\n",
       "    }\n",
       "\n",
       "    .dataframe thead th {\n",
       "        text-align: right;\n",
       "    }\n",
       "</style>\n",
       "<table border=\"1\" class=\"dataframe\">\n",
       "  <thead>\n",
       "    <tr style=\"text-align: right;\">\n",
       "      <th></th>\n",
       "      <th>BAC</th>\n",
       "      <th>JPM</th>\n",
       "      <th>MS</th>\n",
       "    </tr>\n",
       "    <tr>\n",
       "      <th>Date</th>\n",
       "      <th></th>\n",
       "      <th></th>\n",
       "      <th></th>\n",
       "    </tr>\n",
       "  </thead>\n",
       "  <tbody>\n",
       "    <tr>\n",
       "      <th>2021-09-30</th>\n",
       "      <td>42.450001</td>\n",
       "      <td>163.690002</td>\n",
       "      <td>97.309998</td>\n",
       "    </tr>\n",
       "    <tr>\n",
       "      <th>2021-10-01</th>\n",
       "      <td>43.080002</td>\n",
       "      <td>167.130005</td>\n",
       "      <td>99.050003</td>\n",
       "    </tr>\n",
       "    <tr>\n",
       "      <th>2021-10-04</th>\n",
       "      <td>43.340000</td>\n",
       "      <td>166.949997</td>\n",
       "      <td>97.150002</td>\n",
       "    </tr>\n",
       "    <tr>\n",
       "      <th>2021-10-05</th>\n",
       "      <td>44.220001</td>\n",
       "      <td>168.660004</td>\n",
       "      <td>99.199997</td>\n",
       "    </tr>\n",
       "    <tr>\n",
       "      <th>2021-10-06</th>\n",
       "      <td>44.240002</td>\n",
       "      <td>169.020004</td>\n",
       "      <td>99.099998</td>\n",
       "    </tr>\n",
       "  </tbody>\n",
       "</table>\n",
       "</div>"
      ],
      "text/plain": [
       "                  BAC         JPM         MS\n",
       "Date                                        \n",
       "2021-09-30  42.450001  163.690002  97.309998\n",
       "2021-10-01  43.080002  167.130005  99.050003\n",
       "2021-10-04  43.340000  166.949997  97.150002\n",
       "2021-10-05  44.220001  168.660004  99.199997\n",
       "2021-10-06  44.240002  169.020004  99.099998"
      ]
     },
     "execution_count": 3,
     "metadata": {},
     "output_type": "execute_result"
    }
   ],
   "source": [
    "stock_prices.head()"
   ]
  },
  {
   "cell_type": "markdown",
   "metadata": {},
   "source": [
    "The summary statistics below indicates that you have 85 observations and `JPM` has highest stock price and standard deviation. Whereas `BAC` has the lowest stock price and standard deviation. This information gives us a initial clue about the risk-return schema of the stocks."
   ]
  },
  {
   "cell_type": "code",
   "execution_count": 4,
   "metadata": {},
   "outputs": [
    {
     "data": {
      "text/html": [
       "<div>\n",
       "<style scoped>\n",
       "    .dataframe tbody tr th:only-of-type {\n",
       "        vertical-align: middle;\n",
       "    }\n",
       "\n",
       "    .dataframe tbody tr th {\n",
       "        vertical-align: top;\n",
       "    }\n",
       "\n",
       "    .dataframe thead th {\n",
       "        text-align: right;\n",
       "    }\n",
       "</style>\n",
       "<table border=\"1\" class=\"dataframe\">\n",
       "  <thead>\n",
       "    <tr style=\"text-align: right;\">\n",
       "      <th></th>\n",
       "      <th>BAC</th>\n",
       "      <th>JPM</th>\n",
       "      <th>MS</th>\n",
       "    </tr>\n",
       "  </thead>\n",
       "  <tbody>\n",
       "    <tr>\n",
       "      <th>count</th>\n",
       "      <td>85.000000</td>\n",
       "      <td>85.000000</td>\n",
       "      <td>85.000000</td>\n",
       "    </tr>\n",
       "    <tr>\n",
       "      <th>mean</th>\n",
       "      <td>45.848353</td>\n",
       "      <td>162.378589</td>\n",
       "      <td>99.904942</td>\n",
       "    </tr>\n",
       "    <tr>\n",
       "      <th>std</th>\n",
       "      <td>1.696818</td>\n",
       "      <td>7.144734</td>\n",
       "      <td>2.385132</td>\n",
       "    </tr>\n",
       "    <tr>\n",
       "      <th>min</th>\n",
       "      <td>42.450001</td>\n",
       "      <td>144.949997</td>\n",
       "      <td>94.010002</td>\n",
       "    </tr>\n",
       "    <tr>\n",
       "      <th>25%</th>\n",
       "      <td>44.419998</td>\n",
       "      <td>158.350006</td>\n",
       "      <td>98.300003</td>\n",
       "    </tr>\n",
       "    <tr>\n",
       "      <th>50%</th>\n",
       "      <td>45.869999</td>\n",
       "      <td>163.779999</td>\n",
       "      <td>99.830002</td>\n",
       "    </tr>\n",
       "    <tr>\n",
       "      <th>75%</th>\n",
       "      <td>47.230000</td>\n",
       "      <td>167.830002</td>\n",
       "      <td>101.750000</td>\n",
       "    </tr>\n",
       "    <tr>\n",
       "      <th>max</th>\n",
       "      <td>49.209999</td>\n",
       "      <td>171.779999</td>\n",
       "      <td>105.919998</td>\n",
       "    </tr>\n",
       "  </tbody>\n",
       "</table>\n",
       "</div>"
      ],
      "text/plain": [
       "             BAC         JPM          MS\n",
       "count  85.000000   85.000000   85.000000\n",
       "mean   45.848353  162.378589   99.904942\n",
       "std     1.696818    7.144734    2.385132\n",
       "min    42.450001  144.949997   94.010002\n",
       "25%    44.419998  158.350006   98.300003\n",
       "50%    45.869999  163.779999   99.830002\n",
       "75%    47.230000  167.830002  101.750000\n",
       "max    49.209999  171.779999  105.919998"
      ]
     },
     "execution_count": 4,
     "metadata": {},
     "output_type": "execute_result"
    }
   ],
   "source": [
    "stock_prices.describe()"
   ]
  },
  {
   "cell_type": "markdown",
   "metadata": {},
   "source": [
    "Let us know compute the stock returns using `log-return` formula. Please note that when you compute the stock return first observation in the original data becomes `NaN`, so you need to drop it using `dropna()`."
   ]
  },
  {
   "cell_type": "code",
   "execution_count": 5,
   "metadata": {},
   "outputs": [
    {
     "data": {
      "text/html": [
       "<div>\n",
       "<style scoped>\n",
       "    .dataframe tbody tr th:only-of-type {\n",
       "        vertical-align: middle;\n",
       "    }\n",
       "\n",
       "    .dataframe tbody tr th {\n",
       "        vertical-align: top;\n",
       "    }\n",
       "\n",
       "    .dataframe thead th {\n",
       "        text-align: right;\n",
       "    }\n",
       "</style>\n",
       "<table border=\"1\" class=\"dataframe\">\n",
       "  <thead>\n",
       "    <tr style=\"text-align: right;\">\n",
       "      <th></th>\n",
       "      <th>BAC</th>\n",
       "      <th>JPM</th>\n",
       "      <th>MS</th>\n",
       "    </tr>\n",
       "    <tr>\n",
       "      <th>Date</th>\n",
       "      <th></th>\n",
       "      <th></th>\n",
       "      <th></th>\n",
       "    </tr>\n",
       "  </thead>\n",
       "  <tbody>\n",
       "    <tr>\n",
       "      <th>2021-10-01</th>\n",
       "      <td>0.014732</td>\n",
       "      <td>0.020798</td>\n",
       "      <td>0.017723</td>\n",
       "    </tr>\n",
       "    <tr>\n",
       "      <th>2021-10-04</th>\n",
       "      <td>0.006017</td>\n",
       "      <td>-0.001078</td>\n",
       "      <td>-0.019369</td>\n",
       "    </tr>\n",
       "    <tr>\n",
       "      <th>2021-10-05</th>\n",
       "      <td>0.020101</td>\n",
       "      <td>0.010191</td>\n",
       "      <td>0.020882</td>\n",
       "    </tr>\n",
       "    <tr>\n",
       "      <th>2021-10-06</th>\n",
       "      <td>0.000452</td>\n",
       "      <td>0.002132</td>\n",
       "      <td>-0.001009</td>\n",
       "    </tr>\n",
       "    <tr>\n",
       "      <th>2021-10-07</th>\n",
       "      <td>-0.002716</td>\n",
       "      <td>0.006311</td>\n",
       "      <td>-0.003032</td>\n",
       "    </tr>\n",
       "    <tr>\n",
       "      <th>...</th>\n",
       "      <td>...</td>\n",
       "      <td>...</td>\n",
       "      <td>...</td>\n",
       "    </tr>\n",
       "    <tr>\n",
       "      <th>2022-01-25</th>\n",
       "      <td>0.019561</td>\n",
       "      <td>0.010841</td>\n",
       "      <td>0.009740</td>\n",
       "    </tr>\n",
       "    <tr>\n",
       "      <th>2022-01-26</th>\n",
       "      <td>0.010292</td>\n",
       "      <td>0.009441</td>\n",
       "      <td>0.011345</td>\n",
       "    </tr>\n",
       "    <tr>\n",
       "      <th>2022-01-27</th>\n",
       "      <td>-0.009412</td>\n",
       "      <td>-0.017802</td>\n",
       "      <td>0.009736</td>\n",
       "    </tr>\n",
       "    <tr>\n",
       "      <th>2022-01-28</th>\n",
       "      <td>0.008758</td>\n",
       "      <td>0.008907</td>\n",
       "      <td>0.006406</td>\n",
       "    </tr>\n",
       "    <tr>\n",
       "      <th>2022-01-31</th>\n",
       "      <td>0.005869</td>\n",
       "      <td>0.013482</td>\n",
       "      <td>0.007243</td>\n",
       "    </tr>\n",
       "  </tbody>\n",
       "</table>\n",
       "<p>84 rows × 3 columns</p>\n",
       "</div>"
      ],
      "text/plain": [
       "                 BAC       JPM        MS\n",
       "Date                                    \n",
       "2021-10-01  0.014732  0.020798  0.017723\n",
       "2021-10-04  0.006017 -0.001078 -0.019369\n",
       "2021-10-05  0.020101  0.010191  0.020882\n",
       "2021-10-06  0.000452  0.002132 -0.001009\n",
       "2021-10-07 -0.002716  0.006311 -0.003032\n",
       "...              ...       ...       ...\n",
       "2022-01-25  0.019561  0.010841  0.009740\n",
       "2022-01-26  0.010292  0.009441  0.011345\n",
       "2022-01-27 -0.009412 -0.017802  0.009736\n",
       "2022-01-28  0.008758  0.008907  0.006406\n",
       "2022-01-31  0.005869  0.013482  0.007243\n",
       "\n",
       "[84 rows x 3 columns]"
      ]
     },
     "execution_count": 5,
     "metadata": {},
     "output_type": "execute_result"
    }
   ],
   "source": [
    "stocks_returns = (np.log(stock_prices) - np.log(stock_prices.shift(1))).dropna()\n",
    "stocks_returns"
   ]
  },
  {
   "cell_type": "markdown",
   "metadata": {},
   "source": [
    "The value of the asset that is exposed to market risk is assumed to be 1 million USD and confidence level is 95%. Also, your company holds the assets for 5 days."
   ]
  },
  {
   "cell_type": "code",
   "execution_count": 6,
   "metadata": {},
   "outputs": [],
   "source": [
    "total_asset = 1e6\n",
    "conf_level = 0.95\n",
    "t = 5"
   ]
  },
  {
   "cell_type": "markdown",
   "metadata": {},
   "source": [
    "As you have 3 assets in the portfolio, you need to assign weights. Let's randomly assign weights to these assets but please be careful as the sum of weights should be 1."
   ]
  },
  {
   "cell_type": "code",
   "execution_count": 7,
   "metadata": {},
   "outputs": [
    {
     "data": {
      "text/plain": [
       "array([0.47770604, 0.27691776, 0.2453762 ])"
      ]
     },
     "execution_count": 7,
     "metadata": {},
     "output_type": "execute_result"
    }
   ],
   "source": [
    "weights  = np.random.random(len(stocks_returns.columns))\n",
    "weights /= np.sum(weights)\n",
    "weights"
   ]
  },
  {
   "cell_type": "markdown",
   "metadata": {},
   "source": [
    "Now, we have obtained the weights."
   ]
  }
 ],
 "metadata": {
  "kernelspec": {
   "display_name": "Python 3",
   "language": "python",
   "name": "python3"
  },
  "language_info": {
   "codemirror_mode": {
    "name": "ipython",
    "version": 3
   },
   "file_extension": ".py",
   "mimetype": "text/x-python",
   "name": "python",
   "nbconvert_exporter": "python",
   "pygments_lexer": "ipython3",
   "version": "3.7.3"
  },
  "toc": {
   "base_numbering": 1,
   "nav_menu": {},
   "number_sections": true,
   "sideBar": true,
   "skip_h1_title": false,
   "title_cell": "Table of Contents",
   "title_sidebar": "Contents",
   "toc_cell": false,
   "toc_position": {},
   "toc_section_display": true,
   "toc_window_display": false
  }
 },
 "nbformat": 4,
 "nbformat_minor": 5
}
