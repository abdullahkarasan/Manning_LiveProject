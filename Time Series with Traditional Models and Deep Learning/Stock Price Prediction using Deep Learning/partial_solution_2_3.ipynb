{
 "cells": [
  {
   "cell_type": "code",
   "execution_count": 1,
   "metadata": {},
   "outputs": [],
   "source": [
    "import pandas as pd\n",
    "import numpy as np\n",
    "import matplotlib.pyplot as plt\n",
    "from sklearn.metrics import mean_squared_error\n",
    "from tensorflow import keras\n",
    "from tensorflow.keras.wrappers.scikit_learn import KerasClassifier\n",
    "from tensorflow.keras.layers import SimpleRNN, LSTM, Dropout, Flatten, Dense\n",
    "import tensorflow as tf\n",
    "from tensorflow.keras.models import Sequential"
   ]
  },
  {
   "cell_type": "code",
   "execution_count": 2,
   "metadata": {},
   "outputs": [],
   "source": [
    "# This code imports the data you generated before for replicating.\n",
    "\n",
    "stock_prices = pd.read_csv('stock_prices.csv')\n",
    "arima_predictions_T = pd.read_csv('arima_predictions_T')\n",
    "\n",
    "diff_T = stock_prices['T'].diff().dropna()\n",
    "\n",
    "split = int(len(diff_T.values)*0.95)\n",
    "diff_train_T = diff_T.iloc[:split]\n",
    "diff_test_T = diff_T.iloc[split:]"
   ]
  },
  {
   "cell_type": "code",
   "execution_count": 3,
   "metadata": {},
   "outputs": [],
   "source": [
    "n_steps = 10\n",
    "n_features = 1"
   ]
  },
  {
   "cell_type": "code",
   "execution_count": 4,
   "metadata": {},
   "outputs": [],
   "source": [
    "# This code imports the data you generated before for replicating.\n",
    "\n",
    "def split_sequence(sequence, n_steps):\n",
    "    X, y = [], []\n",
    "    for i in range(len(sequence)):\n",
    "        end_ix = i + n_steps\n",
    "        if end_ix > len(sequence) - 1:\n",
    "            break\n",
    "        seq_x, seq_y = sequence[i:end_ix], sequence[end_ix]\n",
    "        X.append(seq_x)\n",
    "        y.append(seq_y)\n",
    "    return np.array(X), np.array(y)"
   ]
  },
  {
   "cell_type": "code",
   "execution_count": 5,
   "metadata": {},
   "outputs": [],
   "source": [
    "# This code is imported from the previous milestone for replicating.\n",
    "\n",
    "X_diff_train_T, y_diff_train_T = split_sequence(diff_train_T, n_steps)\n",
    "X_diff_train_T = X_diff_train_T.reshape((X_diff_train_T.shape[0],\n",
    "                                         X_diff_train_T.shape[1], n_features))\n",
    "\n",
    "X_diff_test_T, y_diff_test_T = split_sequence(diff_test_T.values, n_steps)\n",
    "X_diff_test_T = X_diff_test_T.reshape((X_diff_test_T.shape[0],\n",
    "                                       X_diff_test_T.shape[1], n_features))"
   ]
  },
  {
   "cell_type": "code",
   "execution_count": 6,
   "metadata": {},
   "outputs": [],
   "source": [
    "callback = tf.keras.callbacks.EarlyStopping(\n",
    "    monitor=\"val_loss\",\n",
    "    min_delta=0,\n",
    "    patience=0,\n",
    "    verbose=0,\n",
    "    mode=\"auto\",\n",
    "    baseline=None,\n",
    "    restore_best_weights=False,\n",
    ")"
   ]
  },
  {
   "cell_type": "code",
   "execution_count": 7,
   "metadata": {},
   "outputs": [],
   "source": [
    "def RNN_part():\n",
    "    model = Sequential()\n",
    "    model.add(SimpleRNN(128,\n",
    "              input_shape=(n_steps, n_features),\n",
    "              return_sequences=True))\n",
    "    model.add(Dropout(0.1))\n",
    "    model.add(Flatten())\n",
    "    model.add(Dense(1))\n",
    "    model.compile(optimizer = 'adam' , loss='mean_squared_error', metrics=['mse'])\n",
    "    return model"
   ]
  },
  {
   "cell_type": "code",
   "execution_count": 8,
   "metadata": {},
   "outputs": [
    {
     "name": "stdout",
     "output_type": "stream",
     "text": [
      "Epoch 1/200\n",
      "2/2 [==============================] - 1s 194ms/step - loss: 0.4194 - mse: 0.4194 - val_loss: 0.1326 - val_mse: 0.1326\n"
     ]
    }
   ],
   "source": [
    "RNN_model = RNN_part()\n",
    "history_RNN = RNN_model.fit(X_diff_train_T, y_diff_train_T,\n",
    "                            batch_size=200,\n",
    "                            epochs=200,\n",
    "                            validation_split=0.2, \n",
    "                            callbacks=[callback])"
   ]
  },
  {
   "cell_type": "code",
   "execution_count": 9,
   "metadata": {},
   "outputs": [],
   "source": [
    "# This code is imported from the previous milestone for replicating.\n",
    "\n",
    "\n",
    "start = X_diff_test_T[X_diff_test_T.shape[0]-1]\n",
    "T_input = start\n",
    "T_input = T_input.reshape((1, n_steps, n_features))"
   ]
  },
  {
   "cell_type": "code",
   "execution_count": 10,
   "metadata": {},
   "outputs": [],
   "source": [
    "# This code is imported from the previous milestone for replicating.\n",
    "predictions_T = []\n",
    "\n",
    "\n",
    "for i in range(len(arima_predictions_T)):\n",
    "    T_input = T_input.reshape((1, n_steps, n_features))\n",
    "    yhat = RNN_model.predict(T_input, verbose=0)\n",
    "    T_input = np.append(T_input, yhat)\n",
    "    T_input = T_input[1:]\n",
    "    predictions_T.append(yhat)"
   ]
  },
  {
   "cell_type": "code",
   "execution_count": 12,
   "metadata": {},
   "outputs": [],
   "source": [
    "def rmse(y,yhat):\n",
    "    return np.sqrt(mean_squared_error(y,yhat))"
   ]
  },
  {
   "cell_type": "code",
   "execution_count": 13,
   "metadata": {},
   "outputs": [
    {
     "name": "stdout",
     "output_type": "stream",
     "text": [
      "RMSE of AT&T for RNN model 0.4566\n"
     ]
    }
   ],
   "source": [
    "print('RMSE of AT&T for RNN model {:.4f}'\\\n",
    "      .format(rmse(diff_test_T, np.array(predictions_T).flatten())))"
   ]
  }
 ],
 "metadata": {
  "kernelspec": {
   "display_name": "Python 3",
   "language": "python",
   "name": "python3"
  },
  "language_info": {
   "codemirror_mode": {
    "name": "ipython",
    "version": 3
   },
   "file_extension": ".py",
   "mimetype": "text/x-python",
   "name": "python",
   "nbconvert_exporter": "python",
   "pygments_lexer": "ipython3",
   "version": "3.8.8"
  },
  "toc": {
   "base_numbering": 1,
   "nav_menu": {},
   "number_sections": true,
   "sideBar": true,
   "skip_h1_title": false,
   "title_cell": "Table of Contents",
   "title_sidebar": "Contents",
   "toc_cell": false,
   "toc_position": {},
   "toc_section_display": true,
   "toc_window_display": false
  }
 },
 "nbformat": 4,
 "nbformat_minor": 4
}
