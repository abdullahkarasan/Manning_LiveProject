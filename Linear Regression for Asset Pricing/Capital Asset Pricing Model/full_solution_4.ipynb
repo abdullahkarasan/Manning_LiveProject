{
 "cells": [
  {
   "cell_type": "markdown",
   "metadata": {},
   "source": [
    "# TASK-4"
   ]
  },
  {
   "cell_type": "markdown",
   "metadata": {},
   "source": [
    "CAPM is also a tool for investor to understand whether an asset is fairly priced. To determine that, we need to use $\\beta$ that we obtained from CAPM analysis and compare with the investor estimates. The `Security Market Line`(SML) is able to test whether securities are fairly priced or not."
   ]
  },
  {
   "cell_type": "markdown",
   "metadata": {},
   "source": [
    "More elaborately, SML exhibits the linear relationship between expected asset returns and betas obtained from CAPM. All the correctly priced securities are plotted on the SML. If the assets lie above the SML line, the assets are undervalued due to the higher return for a given amount of risk. Conversely, the assets lie below the SML are overvalued because it return of this stock is lower for a given amount of risk."
   ]
  },
  {
   "cell_type": "code",
   "execution_count": 1,
   "metadata": {},
   "outputs": [],
   "source": [
    "import matplotlib.pyplot as plt\n",
    "import pandas as pd\n",
    "import statsmodels.api as sm\n",
    "import numpy as np"
   ]
  },
  {
   "cell_type": "code",
   "execution_count": 2,
   "metadata": {},
   "outputs": [],
   "source": [
    "#Note: Note: The data below is the one you retrieved in previous part and\n",
    "#it is used here to run the rest of the analysis.\n",
    "\n",
    "returns = pd.read_csv('returns.csv')\n",
    "returns = returns.set_index('Date')\n",
    "risk_free =  pd.read_csv('risk_free.csv')\n",
    "risk_free = risk_free.set_index('Unnamed: 0')\n",
    "risk_free.index.names = ['Date']\n",
    "\n",
    "rf = risk_free / 90\n",
    "rf = rf.dropna().iloc[:-1].values\n",
    "\n",
    "y_aapl = returns['excess_return_AAPL']\n",
    "X = returns['excess_return_GSPC']\n",
    "\n",
    "X = sm.add_constant(X, prepend=False)\n",
    "CAPM_AAPL = sm.OLS(y_aapl, X)\n",
    "CAPM_results_AAPL = CAPM_AAPL.fit()\n",
    "\n",
    "y_IBM=returns['excess_return_IBM']\n",
    "\n",
    "X = sm.add_constant(X, prepend=False)\n",
    "CAPM_IBM= sm.OLS(y_IBM, X)\n",
    "CAPM_results_IBM = CAPM_IBM.fit()\n",
    "\n",
    "y_MSFT=returns['excess_return_MSFT']\n",
    "\n",
    "X = sm.add_constant(X, prepend=False)\n",
    "CAPM_MSFT= sm.OLS(y_MSFT, X)\n",
    "CAPM_results_MSFT = CAPM_MSFT.fit()\n",
    "\n",
    "y_INTC=returns['excess_return_INTC']\n",
    "\n",
    "X = sm.add_constant(X, prepend=False)\n",
    "CAPM_INTC= sm.OLS(y_INTC, X)\n",
    "CAPM_results_INTC = CAPM_INTC.fit()"
   ]
  },
  {
   "cell_type": "code",
   "execution_count": 3,
   "metadata": {},
   "outputs": [],
   "source": [
    "def SML(rf, ret, betas):\n",
    "    asset_ret = [rf + (rm - rf) * i for i in betas]\n",
    "    plt.plot(betas, asset_ret)\n",
    "    plt.xlabel(\"Asset Beta\")\n",
    "    plt.ylabel(\"Asset Return\")\n",
    "    plt.title(\"Security Market Line\")\n",
    "    plt.plot(1, ret, \"ro\")"
   ]
  },
  {
   "cell_type": "code",
   "execution_count": 4,
   "metadata": {},
   "outputs": [],
   "source": [
    "rm = returns['GSPC'].mean()\n",
    "rf_mean = rf.mean()\n",
    "\n",
    "betas = [CAPM_results_AAPL.params[0], CAPM_results_IBM.params[0],\n",
    "       CAPM_results_MSFT.params[0], CAPM_results_INTC.params[0]]"
   ]
  },
  {
   "cell_type": "code",
   "execution_count": 5,
   "metadata": {},
   "outputs": [
    {
     "data": {
      "image/png": "[encoded data removed]",
      "text/plain": [
       "<Figure size 432x288 with 1 Axes>"
      ]
     },
     "metadata": {
      "needs_background": "light"
     },
     "output_type": "display_data"
    }
   ],
   "source": [
    "SML(rf_mean, rm, betas)"
   ]
  },
  {
   "cell_type": "markdown",
   "metadata": {},
   "source": [
    "Given the beta, if the stock locates below the SML, this implies that stock has a lower return per unit of risk assumed. Hence, it can be concluded that the stock is overvalued and decide to sell the stock. Conversely, if the stock locates below the SML, stock has a lower return per unit of risk assumed, which is considered to be undervalued and buying a stock would be wise choice. "
   ]
  },
  {
   "cell_type": "markdown",
   "metadata": {},
   "source": [
    "Now suppose that the return expectations for \n",
    "\n",
    "* Apple is 0.1% \n",
    "* IBM is 0.05% \n",
    "* Microsoft is 0.025%\n",
    "* Intel is 0.09%\n"
   ]
  },
  {
   "cell_type": "code",
   "execution_count": 6,
   "metadata": {},
   "outputs": [],
   "source": [
    "ret_exp = [0.0010, 0.005, 0.0025, 0.0009]\n",
    "df_ret_exp = pd.DataFrame(ret_exp)\n",
    "df_betas = pd.DataFrame(betas)\n",
    "df_all = pd.concat([df_betas, df_ret_exp], axis=1)\n",
    "df_all.columns = ['betas','ret_exp']\n",
    "df_all.index = returns.columns[:4]"
   ]
  },
  {
   "cell_type": "code",
   "execution_count": 7,
   "metadata": {},
   "outputs": [],
   "source": [
    "def over_under_val(rf, rm, stock):\n",
    "    if rf_mean + (rm - rf_mean) * df_all['betas'].loc[stock] < df_all['ret_exp'].loc[stock]:\n",
    "        print('The stock is undervalued')\n",
    "    elif rf_mean + (rm - rf_mean) * df_all['betas'].loc[stock] > df_all['ret_exp'].loc[stock]:\n",
    "        print('The stock is overvalued')\n",
    "    else:\n",
    "        print('The stock is fairly priced')"
   ]
  },
  {
   "cell_type": "code",
   "execution_count": 8,
   "metadata": {},
   "outputs": [
    {
     "name": "stdout",
     "output_type": "stream",
     "text": [
      "The stock is undervalued\n"
     ]
    }
   ],
   "source": [
    "over_under_val(rf_mean, rm, 'INTC')"
   ]
  },
  {
   "cell_type": "code",
   "execution_count": 9,
   "metadata": {},
   "outputs": [],
   "source": [
    "market_std = returns['excess_return_GSPC'].std()"
   ]
  },
  {
   "cell_type": "markdown",
   "metadata": {},
   "source": [
    "Now, it seem like you obtained  every inputs required to compute the ratios used for gauging the risk-reward combinations. We will do that using the scenarios provided in the instructions. Let me start with the first scenario, which is:\n",
    "\n",
    "* If portfolio is not well-diversified\n",
    "\n",
    "In this scenario, we are supposed to use Sharpe ratio in that if an investor holds a portfolio that is not fully diversified, total risk matters and Sharpe ratio consider the total risk. Recall that Sharpe ratio is:\n",
    "\n",
    "$$Sharpe=\\frac{r_i-r_f}{\\sigma_i}$$\n",
    "\n",
    "where $r_i$ and $\\sigma_i$ denote return and standard deviation of the stock, respectively."
   ]
  },
  {
   "cell_type": "code",
   "execution_count": 10,
   "metadata": {},
   "outputs": [],
   "source": [
    "def sharpe(stocks, rf_mean, n_assets):\n",
    "    sharpe_ratios = {}\n",
    "    for i, j in zip(stocks, range(n_assets)):\n",
    "        sharpe_ratios[i] = (returns.iloc[:, j].mean() - rf_mean) / np.std(returns.iloc[:, j])\n",
    "    return sharpe_ratios"
   ]
  },
  {
   "cell_type": "code",
   "execution_count": 11,
   "metadata": {},
   "outputs": [
    {
     "data": {
      "text/plain": [
       "{'AAPL': -0.08247667248153313,\n",
       " 'IBM': 0.029469582728927995,\n",
       " 'INTC': 0.141627567898596,\n",
       " 'MSFT': 0.03246440962770829}"
      ]
     },
     "execution_count": 11,
     "metadata": {},
     "output_type": "execute_result"
    }
   ],
   "source": [
    "stocks = returns.columns[:4]\n",
    "sharpe_ratios = sharpe(stocks, rf_mean, 4)\n",
    "sharpe_ratios"
   ]
  },
  {
   "cell_type": "markdown",
   "metadata": {},
   "source": [
    "The second scenario is:\n",
    "* If portfolio is well-diversified\n",
    "\n",
    "This is an ideal situation for Treynor ratio, because Treynor ratio takes systematic risk into account to assess the risk-reward situation of an asset or a portfolio. In addition to this ratio, Jensen's alpha can be employed as well as it consider the systematic risk."
   ]
  },
  {
   "cell_type": "markdown",
   "metadata": {},
   "source": [
    "$$\\text{Treynor ratio}=\\frac{r_i-r_f}{\\beta_i}$$"
   ]
  },
  {
   "cell_type": "code",
   "execution_count": 12,
   "metadata": {},
   "outputs": [],
   "source": [
    "def treynor(stocks, rf_mean, n_assets):\n",
    "    treynor_ratios = {}\n",
    "    for i, j in zip(stocks, range(n_assets)):\n",
    "        treynor_ratios[i] = (returns.iloc[:, j].mean() - rf_mean) / df_all['betas'][i]\n",
    "    return treynor_ratios"
   ]
  },
  {
   "cell_type": "code",
   "execution_count": 13,
   "metadata": {},
   "outputs": [
    {
     "data": {
      "text/plain": [
       "{'AAPL': -0.0012308467968676737,\n",
       " 'IBM': 0.0011316618066977173,\n",
       " 'INTC': 0.0037124127277887364,\n",
       " 'MSFT': 0.00029579990251644127}"
      ]
     },
     "execution_count": 13,
     "metadata": {},
     "output_type": "execute_result"
    }
   ],
   "source": [
    "treynor_ratios = treynor(stocks, rf_mean, 4)\n",
    "treynor_ratios"
   ]
  },
  {
   "cell_type": "markdown",
   "metadata": {},
   "source": [
    "Jensen's alpha is really easy to calculate as it is nothing but the the intercept term in the CAPM. "
   ]
  },
  {
   "cell_type": "code",
   "execution_count": 14,
   "metadata": {},
   "outputs": [
    {
     "name": "stdout",
     "output_type": "stream",
     "text": [
      "Alpha for Apple is -0.002267275594090211\n",
      "Alpha for IBM is 0.0003474135780603696\n",
      "Alpha for Microsoft is 8.648965159527462e-05\n",
      "Alpha for Intel is 0.0032388642098355007\n"
     ]
    }
   ],
   "source": [
    "print(f'Alpha for Apple is {CAPM_results_AAPL.params[1]}')\n",
    "print(f'Alpha for IBM is {CAPM_results_IBM.params[1]}')\n",
    "print(f'Alpha for Microsoft is {CAPM_results_MSFT.params[1]}')\n",
    "print(f'Alpha for Intel is {CAPM_results_INTC.params[1]}')"
   ]
  },
  {
   "cell_type": "markdown",
   "metadata": {},
   "source": [
    "Third and the last scenario is:\n",
    "* If stock analyst performance matters\n",
    "\n",
    "Intercept term ($\\alpha$) in CAPM analysis reveals the stock analyst performance. So, the answer is Jensen's alpha again. Let's dig into more what happens if $\\alpha$ takes on different values:\n",
    "\n",
    "* Positive alpha: Analyst beats the market and gain profit\n",
    "* Zero alpha: Analyst performance replicates the market performance\n",
    "* Negative alpha: Poor analyst performance"
   ]
  },
  {
   "cell_type": "markdown",
   "metadata": {},
   "source": [
    "It is time to interpret the result. Let's start off with the Sharpe ratio. The higher the Sharpe ratio is, the higher the return we gain per risk is. In this context, we are lloking for highest stock with Sharpe ratio, which is `Intel`. It would be a good choice to invest in Intel, because we gain more in relative to risk we assumed."
   ]
  },
  {
   "cell_type": "code",
   "execution_count": 19,
   "metadata": {},
   "outputs": [
    {
     "name": "stdout",
     "output_type": "stream",
     "text": [
      "INTC\n",
      "0.141627567898596\n"
     ]
    }
   ],
   "source": [
    "print(max(sharpe_ratios, key=sharpe_ratios.get))\n",
    "print(max(sharpe_ratios.values()))"
   ]
  },
  {
   "cell_type": "markdown",
   "metadata": {},
   "source": [
    "The `Apple` has the lowest Sharpe ratio indicating that it assumes higher risk per return in relative to other stocks considered."
   ]
  },
  {
   "cell_type": "code",
   "execution_count": 20,
   "metadata": {},
   "outputs": [
    {
     "name": "stdout",
     "output_type": "stream",
     "text": [
      "AAPL\n",
      "-0.08247667248153313\n"
     ]
    }
   ],
   "source": [
    "print(min(sharpe_ratios, key=sharpe_ratios.get))\n",
    "print(min(sharpe_ratios.values()))"
   ]
  },
  {
   "cell_type": "markdown",
   "metadata": {},
   "source": [
    "Once we calculate maximum and minimum Treynor ratios, it turns out that the results confirm the one we found in the Sharpe ratio. Still, the most and least feasible stocks are Intel and Apple, respectively."
   ]
  },
  {
   "cell_type": "code",
   "execution_count": 21,
   "metadata": {},
   "outputs": [
    {
     "name": "stdout",
     "output_type": "stream",
     "text": [
      "INTC\n",
      "0.0037124127277887364\n"
     ]
    }
   ],
   "source": [
    "print(max(treynor_ratios, key=treynor_ratios.get))\n",
    "print(max(treynor_ratios.values()))"
   ]
  },
  {
   "cell_type": "code",
   "execution_count": 22,
   "metadata": {},
   "outputs": [
    {
     "name": "stdout",
     "output_type": "stream",
     "text": [
      "AAPL\n",
      "-0.0012308467968676737\n"
     ]
    }
   ],
   "source": [
    "print(min(treynor_ratios, key=treynor_ratios.get))\n",
    "print(min(treynor_ratios.values()))"
   ]
  },
  {
   "cell_type": "markdown",
   "metadata": {},
   "source": [
    "As for the interpretation of Jensen's alpha, none of the intercept terms in the CAPM analysis are statistically significant. Therefore, we cannot draw a reliable result from Jensen's alpha. Nevertheless, for the sake of practice, I indicate the alpha values below:"
   ]
  }
 ],
 "metadata": {
  "kernelspec": {
   "display_name": "Python 3",
   "language": "python",
   "name": "python3"
  },
  "language_info": {
   "codemirror_mode": {
    "name": "ipython",
    "version": 3
   },
   "file_extension": ".py",
   "mimetype": "text/x-python",
   "name": "python",
   "nbconvert_exporter": "python",
   "pygments_lexer": "ipython3",
   "version": "3.8.8"
  },
  "toc": {
   "base_numbering": 1,
   "nav_menu": {},
   "number_sections": true,
   "sideBar": true,
   "skip_h1_title": false,
   "title_cell": "Table of Contents",
   "title_sidebar": "Contents",
   "toc_cell": false,
   "toc_position": {},
   "toc_section_display": true,
   "toc_window_display": false
  }
 },
 "nbformat": 4,
 "nbformat_minor": 4
}
