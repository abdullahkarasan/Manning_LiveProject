{
 "cells": [
  {
   "cell_type": "markdown",
   "id": "42ce397b",
   "metadata": {},
   "source": [
    "# Partial Solution - CAPM Analysis"
   ]
  },
  {
   "cell_type": "code",
   "execution_count": 1,
   "id": "8ac68f38",
   "metadata": {},
   "outputs": [],
   "source": [
    "import statsmodels.api as sm\n",
    "import pandas as pd"
   ]
  },
  {
   "cell_type": "code",
   "execution_count": 2,
   "id": "11c7887e",
   "metadata": {},
   "outputs": [],
   "source": [
    "#Note: Note: The data below is the one you retrieved in previous part and\n",
    "#it is used here to run the rest of the analysis.\n",
    "\n",
    "returns = pd.read_csv('returns.csv')\n",
    "returns = returns.set_index('Date')"
   ]
  },
  {
   "cell_type": "code",
   "execution_count": 3,
   "id": "ae5d26d2",
   "metadata": {},
   "outputs": [],
   "source": [
    "y_aapl = returns['excess_return_AAPL']\n",
    "X = returns['excess_return_GSPC']"
   ]
  },
  {
   "cell_type": "code",
   "execution_count": 4,
   "id": "df0904b0",
   "metadata": {},
   "outputs": [],
   "source": [
    "X = sm.add_constant(X, prepend=False)\n",
    "CAPM_AAPL = sm.OLS(y_aapl, X)\n",
    "CAPM_results_AAPL = CAPM_AAPL.fit()"
   ]
  },
  {
   "cell_type": "code",
   "execution_count": 5,
   "id": "5c6dc252",
   "metadata": {},
   "outputs": [
    {
     "data": {
      "text/html": [
       "<table class=\"simpletable\">\n",
       "<caption>OLS Regression Results</caption>\n",
       "<tr>\n",
       "  <th>Dep. Variable:</th>    <td>excess_return_AAPL</td> <th>  R-squared:         </th> <td>   0.442</td>\n",
       "</tr>\n",
       "<tr>\n",
       "  <th>Model:</th>                    <td>OLS</td>        <th>  Adj. R-squared:    </th> <td>   0.432</td>\n",
       "</tr>\n",
       "<tr>\n",
       "  <th>Method:</th>              <td>Least Squares</td>   <th>  F-statistic:       </th> <td>   46.73</td>\n",
       "</tr>\n",
       "<tr>\n",
       "  <th>Date:</th>              <td>Thu, 05 Aug 2021</td>  <th>  Prob (F-statistic):</th> <td>5.13e-09</td>\n",
       "</tr>\n",
       "<tr>\n",
       "  <th>Time:</th>                  <td>17:12:36</td>      <th>  Log-Likelihood:    </th> <td>  167.80</td>\n",
       "</tr>\n",
       "<tr>\n",
       "  <th>No. Observations:</th>       <td>    61</td>       <th>  AIC:               </th> <td>  -331.6</td>\n",
       "</tr>\n",
       "<tr>\n",
       "  <th>Df Residuals:</th>           <td>    59</td>       <th>  BIC:               </th> <td>  -327.4</td>\n",
       "</tr>\n",
       "<tr>\n",
       "  <th>Df Model:</th>               <td>     1</td>       <th>                     </th>     <td> </td>   \n",
       "</tr>\n",
       "<tr>\n",
       "  <th>Covariance Type:</th>       <td>nonrobust</td>     <th>                     </th>     <td> </td>   \n",
       "</tr>\n",
       "</table>\n",
       "<table class=\"simpletable\">\n",
       "<tr>\n",
       "           <td></td>             <th>coef</th>     <th>std err</th>      <th>t</th>      <th>P>|t|</th>  <th>[0.025</th>    <th>0.975]</th>  \n",
       "</tr>\n",
       "<tr>\n",
       "  <th>excess_return_GSPC</th> <td>    1.3891</td> <td>    0.203</td> <td>    6.836</td> <td> 0.000</td> <td>    0.982</td> <td>    1.796</td>\n",
       "</tr>\n",
       "<tr>\n",
       "  <th>const</th>              <td>   -0.0023</td> <td>    0.002</td> <td>   -1.126</td> <td> 0.265</td> <td>   -0.006</td> <td>    0.002</td>\n",
       "</tr>\n",
       "</table>\n",
       "<table class=\"simpletable\">\n",
       "<tr>\n",
       "  <th>Omnibus:</th>       <td> 2.777</td> <th>  Durbin-Watson:     </th> <td>   2.000</td>\n",
       "</tr>\n",
       "<tr>\n",
       "  <th>Prob(Omnibus):</th> <td> 0.249</td> <th>  Jarque-Bera (JB):  </th> <td>   2.142</td>\n",
       "</tr>\n",
       "<tr>\n",
       "  <th>Skew:</th>          <td>-0.174</td> <th>  Prob(JB):          </th> <td>   0.343</td>\n",
       "</tr>\n",
       "<tr>\n",
       "  <th>Kurtosis:</th>      <td> 3.849</td> <th>  Cond. No.          </th> <td>    101.</td>\n",
       "</tr>\n",
       "</table><br/><br/>Notes:<br/>[1] Standard Errors assume that the covariance matrix of the errors is correctly specified."
      ],
      "text/plain": [
       "<class 'statsmodels.iolib.summary.Summary'>\n",
       "\"\"\"\n",
       "                            OLS Regression Results                            \n",
       "==============================================================================\n",
       "Dep. Variable:     excess_return_AAPL   R-squared:                       0.442\n",
       "Model:                            OLS   Adj. R-squared:                  0.432\n",
       "Method:                 Least Squares   F-statistic:                     46.73\n",
       "Date:                Thu, 05 Aug 2021   Prob (F-statistic):           5.13e-09\n",
       "Time:                        17:12:36   Log-Likelihood:                 167.80\n",
       "No. Observations:                  61   AIC:                            -331.6\n",
       "Df Residuals:                      59   BIC:                            -327.4\n",
       "Df Model:                           1                                         \n",
       "Covariance Type:            nonrobust                                         \n",
       "======================================================================================\n",
       "                         coef    std err          t      P>|t|      [0.025      0.975]\n",
       "--------------------------------------------------------------------------------------\n",
       "excess_return_GSPC     1.3891      0.203      6.836      0.000       0.982       1.796\n",
       "const                 -0.0023      0.002     -1.126      0.265      -0.006       0.002\n",
       "==============================================================================\n",
       "Omnibus:                        2.777   Durbin-Watson:                   2.000\n",
       "Prob(Omnibus):                  0.249   Jarque-Bera (JB):                2.142\n",
       "Skew:                          -0.174   Prob(JB):                        0.343\n",
       "Kurtosis:                       3.849   Cond. No.                         101.\n",
       "==============================================================================\n",
       "\n",
       "Notes:\n",
       "[1] Standard Errors assume that the covariance matrix of the errors is correctly specified.\n",
       "\"\"\""
      ]
     },
     "execution_count": 5,
     "metadata": {},
     "output_type": "execute_result"
    }
   ],
   "source": [
    "CAPM_results_AAPL.summary()"
   ]
  }
 ],
 "metadata": {
  "kernelspec": {
   "display_name": "Python 3",
   "language": "python",
   "name": "python3"
  },
  "language_info": {
   "codemirror_mode": {
    "name": "ipython",
    "version": 3
   },
   "file_extension": ".py",
   "mimetype": "text/x-python",
   "name": "python",
   "nbconvert_exporter": "python",
   "pygments_lexer": "ipython3",
   "version": "3.8.8"
  },
  "toc": {
   "base_numbering": 1,
   "nav_menu": {},
   "number_sections": false,
   "sideBar": true,
   "skip_h1_title": false,
   "title_cell": "Table of Contents",
   "title_sidebar": "Contents",
   "toc_cell": false,
   "toc_position": {
    "height": "calc(100% - 180px)",
    "left": "10px",
    "top": "150px",
    "width": "409.59375px"
   },
   "toc_section_display": true,
   "toc_window_display": false
  }
 },
 "nbformat": 4,
 "nbformat_minor": 5
}
