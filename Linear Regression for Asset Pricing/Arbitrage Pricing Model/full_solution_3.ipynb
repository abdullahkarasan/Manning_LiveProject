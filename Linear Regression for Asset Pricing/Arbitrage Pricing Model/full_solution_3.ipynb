{
 "cells": [
  {
   "cell_type": "markdown",
   "id": "a5558e46",
   "metadata": {},
   "source": [
    "# Full Solution-3"
   ]
  },
  {
   "cell_type": "code",
   "execution_count": 1,
   "id": "86f4c594",
   "metadata": {},
   "outputs": [],
   "source": [
    "import pandas as pd\n",
    "import statsmodels.api as sm\n",
    "\n",
    "df_merged = pd.read_csv('df_merged.csv')\n",
    "df_merged = df_merged.set_index('timestamp')"
   ]
  },
  {
   "cell_type": "markdown",
   "id": "4f5e51c5",
   "metadata": {},
   "source": [
    "As we did before, assigning new variable to dependent and independent variables faciliates the regression analysis. `excess_return_TWTR` is our dependent variable and it is labeled as y by convention. The rest of the variables are independent variables and they are labeled as `X_TWTR`:"
   ]
  },
  {
   "cell_type": "code",
   "execution_count": 2,
   "id": "10c52524",
   "metadata": {},
   "outputs": [],
   "source": [
    "y = df_merged['excess_return_TWTR']\n",
    "X_TWTR = df_merged.iloc[:, 2:]"
   ]
  },
  {
   "cell_type": "code",
   "execution_count": 3,
   "id": "2ca6ad31",
   "metadata": {},
   "outputs": [],
   "source": [
    "X_TWTR = sm.add_constant(X_TWTR, prepend=False)\n",
    "APT_TWTR = sm.OLS(y, X_TWTR)\n",
    "APT_results_TWTR = APT_TWTR.fit()"
   ]
  },
  {
   "cell_type": "code",
   "execution_count": 4,
   "id": "d0516b68",
   "metadata": {},
   "outputs": [
    {
     "data": {
      "text/html": [
       "<table class=\"simpletable\">\n",
       "<caption>OLS Regression Results</caption>\n",
       "<tr>\n",
       "  <th>Dep. Variable:</th>    <td>excess_return_TWTR</td> <th>  R-squared:         </th> <td>   0.243</td>\n",
       "</tr>\n",
       "<tr>\n",
       "  <th>Model:</th>                    <td>OLS</td>        <th>  Adj. R-squared:    </th> <td>   0.211</td>\n",
       "</tr>\n",
       "<tr>\n",
       "  <th>Method:</th>              <td>Least Squares</td>   <th>  F-statistic:       </th> <td>   7.607</td>\n",
       "</tr>\n",
       "<tr>\n",
       "  <th>Date:</th>              <td>Fri, 06 Aug 2021</td>  <th>  Prob (F-statistic):</th> <td>0.000176</td>\n",
       "</tr>\n",
       "<tr>\n",
       "  <th>Time:</th>                  <td>15:39:34</td>      <th>  Log-Likelihood:    </th> <td>  40.260</td>\n",
       "</tr>\n",
       "<tr>\n",
       "  <th>No. Observations:</th>       <td>    75</td>       <th>  AIC:               </th> <td>  -72.52</td>\n",
       "</tr>\n",
       "<tr>\n",
       "  <th>Df Residuals:</th>           <td>    71</td>       <th>  BIC:               </th> <td>  -63.25</td>\n",
       "</tr>\n",
       "<tr>\n",
       "  <th>Df Model:</th>               <td>     3</td>       <th>                     </th>     <td> </td>   \n",
       "</tr>\n",
       "<tr>\n",
       "  <th>Covariance Type:</th>       <td>nonrobust</td>     <th>                     </th>     <td> </td>   \n",
       "</tr>\n",
       "</table>\n",
       "<table class=\"simpletable\">\n",
       "<tr>\n",
       "          <td></td>             <th>coef</th>     <th>std err</th>      <th>t</th>      <th>P>|t|</th>  <th>[0.025</th>    <th>0.975]</th>  \n",
       "</tr>\n",
       "<tr>\n",
       "  <th>excess_return_SPY</th> <td>    0.8395</td> <td>    0.232</td> <td>    3.623</td> <td> 0.001</td> <td>    0.378</td> <td>    1.302</td>\n",
       "</tr>\n",
       "<tr>\n",
       "  <th>inf_rate</th>          <td>    9.2895</td> <td>    7.715</td> <td>    1.204</td> <td> 0.233</td> <td>   -6.095</td> <td>   24.674</td>\n",
       "</tr>\n",
       "<tr>\n",
       "  <th>log_ind</th>           <td>   -0.1051</td> <td>    0.581</td> <td>   -0.181</td> <td> 0.857</td> <td>   -1.264</td> <td>    1.054</td>\n",
       "</tr>\n",
       "<tr>\n",
       "  <th>const</th>             <td>    0.4589</td> <td>    2.660</td> <td>    0.172</td> <td> 0.864</td> <td>   -4.846</td> <td>    5.764</td>\n",
       "</tr>\n",
       "</table>\n",
       "<table class=\"simpletable\">\n",
       "<tr>\n",
       "  <th>Omnibus:</th>       <td> 2.946</td> <th>  Durbin-Watson:     </th> <td>   2.410</td>\n",
       "</tr>\n",
       "<tr>\n",
       "  <th>Prob(Omnibus):</th> <td> 0.229</td> <th>  Jarque-Bera (JB):  </th> <td>   2.229</td>\n",
       "</tr>\n",
       "<tr>\n",
       "  <th>Skew:</th>          <td> 0.278</td> <th>  Prob(JB):          </th> <td>   0.328</td>\n",
       "</tr>\n",
       "<tr>\n",
       "  <th>Kurtosis:</th>      <td> 3.636</td> <th>  Cond. No.          </th> <td>2.18e+03</td>\n",
       "</tr>\n",
       "</table><br/><br/>Notes:<br/>[1] Standard Errors assume that the covariance matrix of the errors is correctly specified.<br/>[2] The condition number is large, 2.18e+03. This might indicate that there are<br/>strong multicollinearity or other numerical problems."
      ],
      "text/plain": [
       "<class 'statsmodels.iolib.summary.Summary'>\n",
       "\"\"\"\n",
       "                            OLS Regression Results                            \n",
       "==============================================================================\n",
       "Dep. Variable:     excess_return_TWTR   R-squared:                       0.243\n",
       "Model:                            OLS   Adj. R-squared:                  0.211\n",
       "Method:                 Least Squares   F-statistic:                     7.607\n",
       "Date:                Fri, 06 Aug 2021   Prob (F-statistic):           0.000176\n",
       "Time:                        15:39:34   Log-Likelihood:                 40.260\n",
       "No. Observations:                  75   AIC:                            -72.52\n",
       "Df Residuals:                      71   BIC:                            -63.25\n",
       "Df Model:                           3                                         \n",
       "Covariance Type:            nonrobust                                         \n",
       "=====================================================================================\n",
       "                        coef    std err          t      P>|t|      [0.025      0.975]\n",
       "-------------------------------------------------------------------------------------\n",
       "excess_return_SPY     0.8395      0.232      3.623      0.001       0.378       1.302\n",
       "inf_rate              9.2895      7.715      1.204      0.233      -6.095      24.674\n",
       "log_ind              -0.1051      0.581     -0.181      0.857      -1.264       1.054\n",
       "const                 0.4589      2.660      0.172      0.864      -4.846       5.764\n",
       "==============================================================================\n",
       "Omnibus:                        2.946   Durbin-Watson:                   2.410\n",
       "Prob(Omnibus):                  0.229   Jarque-Bera (JB):                2.229\n",
       "Skew:                           0.278   Prob(JB):                        0.328\n",
       "Kurtosis:                       3.636   Cond. No.                     2.18e+03\n",
       "==============================================================================\n",
       "\n",
       "Notes:\n",
       "[1] Standard Errors assume that the covariance matrix of the errors is correctly specified.\n",
       "[2] The condition number is large, 2.18e+03. This might indicate that there are\n",
       "strong multicollinearity or other numerical problems.\n",
       "\"\"\""
      ]
     },
     "execution_count": 4,
     "metadata": {},
     "output_type": "execute_result"
    }
   ],
   "source": [
    "APT_results_TWTR.summary()"
   ]
  },
  {
   "cell_type": "markdown",
   "id": "a1d9c384",
   "metadata": {},
   "source": [
    "The findings suggest that the only statistically significant variable is market index `excess_return_SPY`, which has a coefficient of 0.6935 indicating a high correlation with dependent variable. Inflation rate and industrial production seem to have no explanatory power."
   ]
  },
  {
   "cell_type": "markdown",
   "id": "0255d04e",
   "metadata": {},
   "source": [
    "The same procedure is applied to `FB` given below:"
   ]
  },
  {
   "cell_type": "code",
   "execution_count": 5,
   "id": "de907748",
   "metadata": {},
   "outputs": [],
   "source": [
    "y = df_merged['excess_return_FB']\n",
    "X_FB = df_merged.iloc[:, 2:]"
   ]
  },
  {
   "cell_type": "code",
   "execution_count": 6,
   "id": "b0390d9d",
   "metadata": {},
   "outputs": [],
   "source": [
    "X_FB = sm.add_constant(X_FB, prepend=False)\n",
    "APT_FB = sm.OLS(y,X_FB)\n",
    "APT_results_FB = APT_FB.fit()"
   ]
  },
  {
   "cell_type": "code",
   "execution_count": 7,
   "id": "39b460be",
   "metadata": {},
   "outputs": [
    {
     "data": {
      "text/html": [
       "<table class=\"simpletable\">\n",
       "<caption>OLS Regression Results</caption>\n",
       "<tr>\n",
       "  <th>Dep. Variable:</th>    <td>excess_return_FB</td> <th>  R-squared:         </th> <td>   0.749</td>\n",
       "</tr>\n",
       "<tr>\n",
       "  <th>Model:</th>                   <td>OLS</td>       <th>  Adj. R-squared:    </th> <td>   0.739</td>\n",
       "</tr>\n",
       "<tr>\n",
       "  <th>Method:</th>             <td>Least Squares</td>  <th>  F-statistic:       </th> <td>   70.75</td>\n",
       "</tr>\n",
       "<tr>\n",
       "  <th>Date:</th>             <td>Fri, 06 Aug 2021</td> <th>  Prob (F-statistic):</th> <td>2.74e-21</td>\n",
       "</tr>\n",
       "<tr>\n",
       "  <th>Time:</th>                 <td>15:39:37</td>     <th>  Log-Likelihood:    </th> <td>  108.40</td>\n",
       "</tr>\n",
       "<tr>\n",
       "  <th>No. Observations:</th>      <td>    75</td>      <th>  AIC:               </th> <td>  -208.8</td>\n",
       "</tr>\n",
       "<tr>\n",
       "  <th>Df Residuals:</th>          <td>    71</td>      <th>  BIC:               </th> <td>  -199.5</td>\n",
       "</tr>\n",
       "<tr>\n",
       "  <th>Df Model:</th>              <td>     3</td>      <th>                     </th>     <td> </td>   \n",
       "</tr>\n",
       "<tr>\n",
       "  <th>Covariance Type:</th>      <td>nonrobust</td>    <th>                     </th>     <td> </td>   \n",
       "</tr>\n",
       "</table>\n",
       "<table class=\"simpletable\">\n",
       "<tr>\n",
       "          <td></td>             <th>coef</th>     <th>std err</th>      <th>t</th>      <th>P>|t|</th>  <th>[0.025</th>    <th>0.975]</th>  \n",
       "</tr>\n",
       "<tr>\n",
       "  <th>excess_return_SPY</th> <td>    1.0374</td> <td>    0.093</td> <td>   11.107</td> <td> 0.000</td> <td>    0.851</td> <td>    1.224</td>\n",
       "</tr>\n",
       "<tr>\n",
       "  <th>inf_rate</th>          <td>    5.1539</td> <td>    3.110</td> <td>    1.657</td> <td> 0.102</td> <td>   -1.047</td> <td>   11.355</td>\n",
       "</tr>\n",
       "<tr>\n",
       "  <th>log_ind</th>           <td>   -0.3016</td> <td>    0.234</td> <td>   -1.287</td> <td> 0.202</td> <td>   -0.769</td> <td>    0.166</td>\n",
       "</tr>\n",
       "<tr>\n",
       "  <th>const</th>             <td>    1.3935</td> <td>    1.072</td> <td>    1.299</td> <td> 0.198</td> <td>   -0.745</td> <td>    3.532</td>\n",
       "</tr>\n",
       "</table>\n",
       "<table class=\"simpletable\">\n",
       "<tr>\n",
       "  <th>Omnibus:</th>       <td> 2.866</td> <th>  Durbin-Watson:     </th> <td>   2.065</td>\n",
       "</tr>\n",
       "<tr>\n",
       "  <th>Prob(Omnibus):</th> <td> 0.239</td> <th>  Jarque-Bera (JB):  </th> <td>   2.126</td>\n",
       "</tr>\n",
       "<tr>\n",
       "  <th>Skew:</th>          <td> 0.286</td> <th>  Prob(JB):          </th> <td>   0.345</td>\n",
       "</tr>\n",
       "<tr>\n",
       "  <th>Kurtosis:</th>      <td> 3.595</td> <th>  Cond. No.          </th> <td>2.18e+03</td>\n",
       "</tr>\n",
       "</table><br/><br/>Notes:<br/>[1] Standard Errors assume that the covariance matrix of the errors is correctly specified.<br/>[2] The condition number is large, 2.18e+03. This might indicate that there are<br/>strong multicollinearity or other numerical problems."
      ],
      "text/plain": [
       "<class 'statsmodels.iolib.summary.Summary'>\n",
       "\"\"\"\n",
       "                            OLS Regression Results                            \n",
       "==============================================================================\n",
       "Dep. Variable:       excess_return_FB   R-squared:                       0.749\n",
       "Model:                            OLS   Adj. R-squared:                  0.739\n",
       "Method:                 Least Squares   F-statistic:                     70.75\n",
       "Date:                Fri, 06 Aug 2021   Prob (F-statistic):           2.74e-21\n",
       "Time:                        15:39:37   Log-Likelihood:                 108.40\n",
       "No. Observations:                  75   AIC:                            -208.8\n",
       "Df Residuals:                      71   BIC:                            -199.5\n",
       "Df Model:                           3                                         \n",
       "Covariance Type:            nonrobust                                         \n",
       "=====================================================================================\n",
       "                        coef    std err          t      P>|t|      [0.025      0.975]\n",
       "-------------------------------------------------------------------------------------\n",
       "excess_return_SPY     1.0374      0.093     11.107      0.000       0.851       1.224\n",
       "inf_rate              5.1539      3.110      1.657      0.102      -1.047      11.355\n",
       "log_ind              -0.3016      0.234     -1.287      0.202      -0.769       0.166\n",
       "const                 1.3935      1.072      1.299      0.198      -0.745       3.532\n",
       "==============================================================================\n",
       "Omnibus:                        2.866   Durbin-Watson:                   2.065\n",
       "Prob(Omnibus):                  0.239   Jarque-Bera (JB):                2.126\n",
       "Skew:                           0.286   Prob(JB):                        0.345\n",
       "Kurtosis:                       3.595   Cond. No.                     2.18e+03\n",
       "==============================================================================\n",
       "\n",
       "Notes:\n",
       "[1] Standard Errors assume that the covariance matrix of the errors is correctly specified.\n",
       "[2] The condition number is large, 2.18e+03. This might indicate that there are\n",
       "strong multicollinearity or other numerical problems.\n",
       "\"\"\""
      ]
     },
     "execution_count": 7,
     "metadata": {},
     "output_type": "execute_result"
    }
   ],
   "source": [
    "APT_results_FB.summary()"
   ]
  },
  {
   "cell_type": "markdown",
   "id": "62266623",
   "metadata": {},
   "source": [
    "Similar to our findings in Twitter, we have single statistically significant variable,`excess_return_SPY`. Its estimated coefficient is 1.01 showing even higher correlation with dependent variable. However, inflation rate and industrial production are again not statisticall significant, so it makes no sense to interpret the estimated coefficients of these variables."
   ]
  }
 ],
 "metadata": {
  "kernelspec": {
   "display_name": "Python 3",
   "language": "python",
   "name": "python3"
  },
  "language_info": {
   "codemirror_mode": {
    "name": "ipython",
    "version": 3
   },
   "file_extension": ".py",
   "mimetype": "text/x-python",
   "name": "python",
   "nbconvert_exporter": "python",
   "pygments_lexer": "ipython3",
   "version": "3.8.8"
  },
  "toc": {
   "base_numbering": 1,
   "nav_menu": {},
   "number_sections": true,
   "sideBar": true,
   "skip_h1_title": false,
   "title_cell": "Table of Contents",
   "title_sidebar": "Contents",
   "toc_cell": false,
   "toc_position": {},
   "toc_section_display": true,
   "toc_window_display": false
  }
 },
 "nbformat": 4,
 "nbformat_minor": 5
}
