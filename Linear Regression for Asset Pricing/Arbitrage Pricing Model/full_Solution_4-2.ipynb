{
 "cells": [
  {
   "cell_type": "markdown",
   "id": "e149f5e5",
   "metadata": {},
   "source": [
    "# Full Solution-4"
   ]
  },
  {
   "cell_type": "code",
   "execution_count": 7,
   "id": "8a31c652",
   "metadata": {},
   "outputs": [],
   "source": [
    "# Note: The data below is the one you retrieved in previous part and\n",
    "#it is used here to run the rest of the analysis.\n",
    "import pandas as pd\n",
    "import numpy as np\n",
    "import statsmodels.api as sm\n",
    "import matplotlib.pyplot as plt\n",
    "\n",
    "\n",
    "risk_free = pd.read_csv('risk_free.csv')\n",
    "risk_free = risk_free.set_index('Unnamed: 0')\n",
    "risk_free.index.names = ['Date']\n",
    "returns =  pd.read_csv('returns.csv')\n",
    "returns = returns.set_index('timestamp')\n",
    "df_merged = pd.read_csv('df_merged.csv')\n",
    "df_merged = df_merged.set_index('timestamp')\n",
    "\n",
    "y = df_merged['excess_return_TWTR']\n",
    "X_TWTR = df_merged.iloc[:, 2:]\n",
    "\n",
    "X_TWTR = sm.add_constant(X_TWTR, prepend=False)\n",
    "APT_TWTR = sm.OLS(y, X_TWTR)\n",
    "APT_results_TWTR = APT_TWTR.fit()\n",
    "\n",
    "y = df_merged['excess_return_FB']\n",
    "X_FB = df_merged.iloc[:, 2:]\n",
    "\n",
    "X_FB = sm.add_constant(X_FB, prepend=False)\n",
    "APT_FB = sm.OLS(y,X_FB)\n",
    "APT_results_FB = APT_FB.fit()"
   ]
  },
  {
   "cell_type": "code",
   "execution_count": 8,
   "id": "02963396",
   "metadata": {},
   "outputs": [],
   "source": [
    "def SML(risk_free,ret,betas):\n",
    "    asset_ret = [risk_free + (rm - risk_free) * i for i in betas]\n",
    "    plt.plot(betas, asset_ret)\n",
    "    plt.xlabel(\"Asset Beta\")\n",
    "    plt.ylabel(\"Asset Return\")\n",
    "    plt.title(\"Security Market Line\")\n",
    "    plt.plot(1, ret, \"ro\")"
   ]
  },
  {
   "cell_type": "code",
   "execution_count": 9,
   "id": "34d6453e",
   "metadata": {},
   "outputs": [],
   "source": [
    "ret_cov = returns.iloc[:, :2].cov()\n",
    "rm = returns['SPY'].mean()\n",
    "risk_free = risk_free.mean()\n",
    "betas = [APT_results_TWTR.params[0], APT_results_FB.params[0]]"
   ]
  },
  {
   "cell_type": "code",
   "execution_count": 10,
   "id": "554cbf50",
   "metadata": {},
   "outputs": [
    {
     "data": {
      "image/png": "[encoded data removed]",
      "text/plain": [
       "<Figure size 432x288 with 1 Axes>"
      ]
     },
     "metadata": {
      "needs_background": "light"
     },
     "output_type": "display_data"
    }
   ],
   "source": [
    "SML(risk_free, rm, betas)"
   ]
  },
  {
   "cell_type": "markdown",
   "id": "1bd01ea5",
   "metadata": {},
   "source": [
    "Well, contrary to the theory, the slope of SML is negative implying that the more systematic risk you have, the lower the expected return is. This sounds awkward, but it happens from time to time."
   ]
  }
 ],
 "metadata": {
  "kernelspec": {
   "display_name": "Python 3",
   "language": "python",
   "name": "python3"
  },
  "language_info": {
   "codemirror_mode": {
    "name": "ipython",
    "version": 3
   },
   "file_extension": ".py",
   "mimetype": "text/x-python",
   "name": "python",
   "nbconvert_exporter": "python",
   "pygments_lexer": "ipython3",
   "version": "3.8.8"
  },
  "toc": {
   "base_numbering": 1,
   "nav_menu": {},
   "number_sections": true,
   "sideBar": true,
   "skip_h1_title": false,
   "title_cell": "Table of Contents",
   "title_sidebar": "Contents",
   "toc_cell": false,
   "toc_position": {},
   "toc_section_display": true,
   "toc_window_display": false
  }
 },
 "nbformat": 4,
 "nbformat_minor": 5
}
