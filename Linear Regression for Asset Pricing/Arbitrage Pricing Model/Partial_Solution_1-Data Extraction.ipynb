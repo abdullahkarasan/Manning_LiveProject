{
 "cells": [
  {
   "cell_type": "markdown",
   "id": "91d58c84",
   "metadata": {},
   "source": [
    "# Partial Solution- Data Extraction"
   ]
  },
  {
   "cell_type": "code",
   "execution_count": 1,
   "id": "saved-certification",
   "metadata": {},
   "outputs": [],
   "source": [
    "import requests\n",
    "from io import StringIO\n",
    "import pandas as pd\n",
    "import numpy as np\n",
    "import matplotlib.pyplot as plt\n",
    "import seaborn as sns\n",
    "import statsmodels.api as sm\n",
    "from fredapi import Fred"
   ]
  },
  {
   "cell_type": "code",
   "execution_count": 2,
   "id": "pointed-favorite",
   "metadata": {},
   "outputs": [],
   "source": [
    "def getMonthlyData(symbol):\n",
    "        parameters = {'function': 'TIME_SERIES_MONTHLY_ADJUSTED', 'symbol': symbol,\n",
    "                       'outputsize':'full',\n",
    "                       'datatype': 'csv', \n",
    "                       'apikey': 'LL1WA15IW41XV2T2'}\n",
    "\n",
    "        response = requests.get('https://www.alphavantage.co/query', params=parameters)\n",
    "\n",
    "        # Process the CSV file retrieved\n",
    "        csvText = StringIO(response.text)\n",
    "        data = pd.read_csv(csvText, index_col='timestamp')\n",
    "        return data"
   ]
  },
  {
   "cell_type": "markdown",
   "id": "sharp-reasoning",
   "metadata": {},
   "source": [
    "Before starting, here is a little trick for you. The ticker of the `S&P-500` is `SPY` in Alpha Vantage API."
   ]
  },
  {
   "cell_type": "code",
   "execution_count": 3,
   "id": "electrical-spell",
   "metadata": {},
   "outputs": [],
   "source": [
    "tickers= [\"TWTR\", \"FB\", \"SPY\"]\n",
    "df=[]\n",
    "for i in tickers:\n",
    "    df.append(getMonthlyData(i)[::-1]['close']['2015-01-01':'2021-05-01'])\n",
    "stocks=pd.DataFrame(df).T\n",
    "stocks.columns=tickers"
   ]
  }
 ],
 "metadata": {
  "kernelspec": {
   "display_name": "Python 3",
   "language": "python",
   "name": "python3"
  },
  "language_info": {
   "codemirror_mode": {
    "name": "ipython",
    "version": 3
   },
   "file_extension": ".py",
   "mimetype": "text/x-python",
   "name": "python",
   "nbconvert_exporter": "python",
   "pygments_lexer": "ipython3",
   "version": "3.8.8"
  },
  "toc": {
   "base_numbering": 1,
   "nav_menu": {},
   "number_sections": true,
   "sideBar": true,
   "skip_h1_title": false,
   "title_cell": "Table of Contents",
   "title_sidebar": "Contents",
   "toc_cell": false,
   "toc_position": {},
   "toc_section_display": true,
   "toc_window_display": false
  }
 },
 "nbformat": 4,
 "nbformat_minor": 5
}
