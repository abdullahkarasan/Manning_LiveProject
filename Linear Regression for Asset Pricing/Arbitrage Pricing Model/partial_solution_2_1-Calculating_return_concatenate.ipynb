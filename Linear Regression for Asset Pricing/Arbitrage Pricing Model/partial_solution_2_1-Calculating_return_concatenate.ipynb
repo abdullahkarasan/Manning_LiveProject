{
 "cells": [
  {
   "cell_type": "markdown",
   "id": "b26cfe28",
   "metadata": {},
   "source": [
    "# Partial Solution- Concatenating"
   ]
  },
  {
   "cell_type": "code",
   "execution_count": 1,
   "id": "60072bbc",
   "metadata": {},
   "outputs": [],
   "source": [
    "# Note: The data below is the one you retrieved in previous part and\n",
    "#it is used here to run the rest of the analysis.\n",
    "import pandas as pd\n",
    "import numpy as np\n",
    "\n",
    "risk_free = pd.read_csv('risk_free.csv')\n",
    "risk_free = risk_free.set_index('Unnamed: 0')\n",
    "risk_free.index.names = ['Date']\n",
    "stocks = pd.read_csv('stocks.csv')\n",
    "stocks = stocks.set_index('timestamp')\n",
    "ind =  pd.read_csv('ind.csv')\n",
    "ind = ind.set_index('Unnamed: 0')\n",
    "ind.index.names = ['Date']\n",
    "inf = pd.read_csv('inf.csv')\n",
    "inf = inf.set_index('Unnamed: 0')\n",
    "inf.index.names = ['Date']"
   ]
  },
  {
   "cell_type": "code",
   "execution_count": 2,
   "id": "3d4b1327",
   "metadata": {},
   "outputs": [],
   "source": [
    "inf_rate = inf.pct_change().dropna()"
   ]
  },
  {
   "cell_type": "code",
   "execution_count": 3,
   "id": "07561e6e",
   "metadata": {},
   "outputs": [],
   "source": [
    "risk_free = risk_free / 12"
   ]
  },
  {
   "cell_type": "markdown",
   "id": "7189d5c6",
   "metadata": {},
   "source": [
    "As you can notice, there is a level difference between stock prices, inflation and industrial production index. To deal with the scaling issue, taking logarithm makes sense:"
   ]
  },
  {
   "cell_type": "code",
   "execution_count": 4,
   "id": "66b5c3e5",
   "metadata": {},
   "outputs": [],
   "source": [
    "log_ind = np.log(ind)"
   ]
  },
  {
   "cell_type": "code",
   "execution_count": 5,
   "id": "5e79bad2",
   "metadata": {},
   "outputs": [
    {
     "data": {
      "text/html": [
       "<div>\n",
       "<style scoped>\n",
       "    .dataframe tbody tr th:only-of-type {\n",
       "        vertical-align: middle;\n",
       "    }\n",
       "\n",
       "    .dataframe tbody tr th {\n",
       "        vertical-align: top;\n",
       "    }\n",
       "\n",
       "    .dataframe thead th {\n",
       "        text-align: right;\n",
       "    }\n",
       "</style>\n",
       "<table border=\"1\" class=\"dataframe\">\n",
       "  <thead>\n",
       "    <tr style=\"text-align: right;\">\n",
       "      <th></th>\n",
       "      <th>TWTR</th>\n",
       "      <th>FB</th>\n",
       "      <th>SPY</th>\n",
       "    </tr>\n",
       "    <tr>\n",
       "      <th>timestamp</th>\n",
       "      <th></th>\n",
       "      <th></th>\n",
       "      <th></th>\n",
       "    </tr>\n",
       "  </thead>\n",
       "  <tbody>\n",
       "    <tr>\n",
       "      <th>2015-02-27</th>\n",
       "      <td>0.281108</td>\n",
       "      <td>0.040311</td>\n",
       "      <td>0.056205</td>\n",
       "    </tr>\n",
       "    <tr>\n",
       "      <th>2015-03-31</th>\n",
       "      <td>0.041597</td>\n",
       "      <td>0.041092</td>\n",
       "      <td>-0.020080</td>\n",
       "    </tr>\n",
       "    <tr>\n",
       "      <th>2015-04-30</th>\n",
       "      <td>-0.222045</td>\n",
       "      <td>-0.041902</td>\n",
       "      <td>0.009834</td>\n",
       "    </tr>\n",
       "    <tr>\n",
       "      <th>2015-05-29</th>\n",
       "      <td>-0.058778</td>\n",
       "      <td>0.005332</td>\n",
       "      <td>0.012856</td>\n",
       "    </tr>\n",
       "    <tr>\n",
       "      <th>2015-06-30</th>\n",
       "      <td>-0.012272</td>\n",
       "      <td>0.083028</td>\n",
       "      <td>-0.024865</td>\n",
       "    </tr>\n",
       "  </tbody>\n",
       "</table>\n",
       "</div>"
      ],
      "text/plain": [
       "                TWTR        FB       SPY\n",
       "timestamp                               \n",
       "2015-02-27  0.281108  0.040311  0.056205\n",
       "2015-03-31  0.041597  0.041092 -0.020080\n",
       "2015-04-30 -0.222045 -0.041902  0.009834\n",
       "2015-05-29 -0.058778  0.005332  0.012856\n",
       "2015-06-30 -0.012272  0.083028 -0.024865"
      ]
     },
     "execution_count": 5,
     "metadata": {},
     "output_type": "execute_result"
    }
   ],
   "source": [
    "returns = stocks.pct_change()\n",
    "returns.dropna(inplace=True)\n",
    "returns.head()"
   ]
  },
  {
   "cell_type": "markdown",
   "id": "a6c2b5b6",
   "metadata": {},
   "source": [
    "To be consistent, you need to drop the last two months (April and May) of stock prices and the last month from inflation rate, and industrial production as industrial production index and inflation rate do not have observation at this date."
   ]
  },
  {
   "cell_type": "code",
   "execution_count": 6,
   "id": "84b6a8da",
   "metadata": {},
   "outputs": [
    {
     "name": "stdout",
     "output_type": "stream",
     "text": [
      "75\n",
      "77\n",
      "76\n",
      "77\n"
     ]
    }
   ],
   "source": [
    "print(len(returns))\n",
    "print(len(log_ind))\n",
    "print(len(inf_rate))\n",
    "print(len(risk_free))"
   ]
  },
  {
   "cell_type": "code",
   "execution_count": 7,
   "id": "03882b11",
   "metadata": {},
   "outputs": [],
   "source": [
    "log_ind = log_ind.iloc[2:]\n",
    "inf_rate = inf_rate.iloc[:-1]\n",
    "risk_free = risk_free.iloc[1:-1]"
   ]
  },
  {
   "cell_type": "code",
   "execution_count": 8,
   "id": "9a614ace",
   "metadata": {},
   "outputs": [],
   "source": [
    "inf_rate.index = returns.index\n",
    "log_ind.index = returns.index\n",
    "risk_free.index = returns.index"
   ]
  },
  {
   "cell_type": "markdown",
   "id": "eada239e",
   "metadata": {},
   "source": [
    "After completing the data collection and cleaning process and now we should combine all these variables into single data frame along the columns. Pandas' `concat` function does this for us and create a single data frame. But there is one more step to go. The indeces of the data should be matched properly. The following code does this for us:"
   ]
  },
  {
   "cell_type": "code",
   "execution_count": 10,
   "id": "1f66ec67",
   "metadata": {
    "scrolled": true
   },
   "outputs": [
    {
     "data": {
      "text/html": [
       "<div>\n",
       "<style scoped>\n",
       "    .dataframe tbody tr th:only-of-type {\n",
       "        vertical-align: middle;\n",
       "    }\n",
       "\n",
       "    .dataframe tbody tr th {\n",
       "        vertical-align: top;\n",
       "    }\n",
       "\n",
       "    .dataframe thead th {\n",
       "        text-align: right;\n",
       "    }\n",
       "</style>\n",
       "<table border=\"1\" class=\"dataframe\">\n",
       "  <thead>\n",
       "    <tr style=\"text-align: right;\">\n",
       "      <th></th>\n",
       "      <th>TWTR</th>\n",
       "      <th>FB</th>\n",
       "      <th>SPY</th>\n",
       "      <th>inf_rate</th>\n",
       "      <th>log_ind</th>\n",
       "      <th>risk_free</th>\n",
       "    </tr>\n",
       "    <tr>\n",
       "      <th>timestamp</th>\n",
       "      <th></th>\n",
       "      <th></th>\n",
       "      <th></th>\n",
       "      <th></th>\n",
       "      <th></th>\n",
       "      <th></th>\n",
       "    </tr>\n",
       "  </thead>\n",
       "  <tbody>\n",
       "    <tr>\n",
       "      <th>2015-02-27</th>\n",
       "      <td>0.281108</td>\n",
       "      <td>0.040311</td>\n",
       "      <td>0.056205</td>\n",
       "      <td>0.003891</td>\n",
       "      <td>4.623938</td>\n",
       "      <td>0.018333</td>\n",
       "    </tr>\n",
       "    <tr>\n",
       "      <th>2015-03-31</th>\n",
       "      <td>0.041597</td>\n",
       "      <td>0.041092</td>\n",
       "      <td>-0.020080</td>\n",
       "      <td>0.004887</td>\n",
       "      <td>4.617947</td>\n",
       "      <td>0.020833</td>\n",
       "    </tr>\n",
       "    <tr>\n",
       "      <th>2015-04-30</th>\n",
       "      <td>-0.222045</td>\n",
       "      <td>-0.041902</td>\n",
       "      <td>0.009834</td>\n",
       "      <td>0.002175</td>\n",
       "      <td>4.613543</td>\n",
       "      <td>0.019167</td>\n",
       "    </tr>\n",
       "    <tr>\n",
       "      <th>2015-05-29</th>\n",
       "      <td>-0.058778</td>\n",
       "      <td>0.005332</td>\n",
       "      <td>0.012856</td>\n",
       "      <td>0.004177</td>\n",
       "      <td>4.610220</td>\n",
       "      <td>0.020000</td>\n",
       "    </tr>\n",
       "    <tr>\n",
       "      <th>2015-06-30</th>\n",
       "      <td>-0.012272</td>\n",
       "      <td>0.083028</td>\n",
       "      <td>-0.024865</td>\n",
       "      <td>0.003744</td>\n",
       "      <td>4.616932</td>\n",
       "      <td>0.023333</td>\n",
       "    </tr>\n",
       "    <tr>\n",
       "      <th>...</th>\n",
       "      <td>...</td>\n",
       "      <td>...</td>\n",
       "      <td>...</td>\n",
       "      <td>...</td>\n",
       "      <td>...</td>\n",
       "      <td>...</td>\n",
       "    </tr>\n",
       "    <tr>\n",
       "      <th>2020-12-31</th>\n",
       "      <td>0.164266</td>\n",
       "      <td>-0.013756</td>\n",
       "      <td>0.032647</td>\n",
       "      <td>0.001039</td>\n",
       "      <td>4.599229</td>\n",
       "      <td>0.008333</td>\n",
       "    </tr>\n",
       "    <tr>\n",
       "      <th>2021-01-29</th>\n",
       "      <td>-0.066851</td>\n",
       "      <td>-0.054291</td>\n",
       "      <td>-0.010190</td>\n",
       "      <td>0.004240</td>\n",
       "      <td>4.568216</td>\n",
       "      <td>0.008333</td>\n",
       "    </tr>\n",
       "    <tr>\n",
       "      <th>2021-02-26</th>\n",
       "      <td>0.525035</td>\n",
       "      <td>-0.002748</td>\n",
       "      <td>0.027806</td>\n",
       "      <td>0.005315</td>\n",
       "      <td>4.594514</td>\n",
       "      <td>0.005833</td>\n",
       "    </tr>\n",
       "    <tr>\n",
       "      <th>2021-03-31</th>\n",
       "      <td>-0.174280</td>\n",
       "      <td>0.143273</td>\n",
       "      <td>0.041987</td>\n",
       "      <td>0.006228</td>\n",
       "      <td>4.594776</td>\n",
       "      <td>0.006667</td>\n",
       "    </tr>\n",
       "    <tr>\n",
       "      <th>2021-04-30</th>\n",
       "      <td>-0.132170</td>\n",
       "      <td>0.103725</td>\n",
       "      <td>0.052910</td>\n",
       "      <td>0.006975</td>\n",
       "      <td>4.601700</td>\n",
       "      <td>0.005000</td>\n",
       "    </tr>\n",
       "  </tbody>\n",
       "</table>\n",
       "<p>75 rows × 6 columns</p>\n",
       "</div>"
      ],
      "text/plain": [
       "                TWTR        FB       SPY  inf_rate   log_ind  risk_free\n",
       "timestamp                                                              \n",
       "2015-02-27  0.281108  0.040311  0.056205  0.003891  4.623938   0.018333\n",
       "2015-03-31  0.041597  0.041092 -0.020080  0.004887  4.617947   0.020833\n",
       "2015-04-30 -0.222045 -0.041902  0.009834  0.002175  4.613543   0.019167\n",
       "2015-05-29 -0.058778  0.005332  0.012856  0.004177  4.610220   0.020000\n",
       "2015-06-30 -0.012272  0.083028 -0.024865  0.003744  4.616932   0.023333\n",
       "...              ...       ...       ...       ...       ...        ...\n",
       "2020-12-31  0.164266 -0.013756  0.032647  0.001039  4.599229   0.008333\n",
       "2021-01-29 -0.066851 -0.054291 -0.010190  0.004240  4.568216   0.008333\n",
       "2021-02-26  0.525035 -0.002748  0.027806  0.005315  4.594514   0.005833\n",
       "2021-03-31 -0.174280  0.143273  0.041987  0.006228  4.594776   0.006667\n",
       "2021-04-30 -0.132170  0.103725  0.052910  0.006975  4.601700   0.005000\n",
       "\n",
       "[75 rows x 6 columns]"
      ]
     },
     "execution_count": 10,
     "metadata": {},
     "output_type": "execute_result"
    }
   ],
   "source": [
    "apt_df = pd.concat([returns, inf_rate, log_ind, risk_free], axis=1)\n",
    "apt_df.columns = ['TWTR', 'FB', 'SPY', 'inf_rate', 'log_ind', 'risk_free']\n",
    "apt_df"
   ]
  }
 ],
 "metadata": {
  "kernelspec": {
   "display_name": "Python 3",
   "language": "python",
   "name": "python3"
  },
  "language_info": {
   "codemirror_mode": {
    "name": "ipython",
    "version": 3
   },
   "file_extension": ".py",
   "mimetype": "text/x-python",
   "name": "python",
   "nbconvert_exporter": "python",
   "pygments_lexer": "ipython3",
   "version": "3.8.8"
  },
  "toc": {
   "base_numbering": 1,
   "nav_menu": {},
   "number_sections": false,
   "sideBar": true,
   "skip_h1_title": false,
   "title_cell": "Table of Contents",
   "title_sidebar": "Contents",
   "toc_cell": false,
   "toc_position": {},
   "toc_section_display": true,
   "toc_window_display": false
  }
 },
 "nbformat": 4,
 "nbformat_minor": 5
}
