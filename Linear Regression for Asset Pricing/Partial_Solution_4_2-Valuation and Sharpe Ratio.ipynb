{
 "cells": [
  {
   "cell_type": "markdown",
   "id": "3103c991",
   "metadata": {},
   "source": [
    "# Partial Solution- Valuation and Sharpe Ratio"
   ]
  },
  {
   "cell_type": "code",
   "execution_count": 43,
   "id": "780be4e6",
   "metadata": {},
   "outputs": [],
   "source": [
    "ret_exp = [0.0010,0.005,0.0025,0.0009]\n",
    "df_ret_exp = pd.DataFrame(ret_exp)\n",
    "df_betas = pd.DataFrame(betas)\n",
    "df_all = pd.concat([df_betas,df_ret_exp],axis=1)\n",
    "df_all.columns = ['betas','ret_exp']\n",
    "df_all.index = returns.columns[:4]"
   ]
  },
  {
   "cell_type": "code",
   "execution_count": 44,
   "id": "7ddc4983",
   "metadata": {},
   "outputs": [],
   "source": [
    "def over_under_val(rf,rm,stock):\n",
    "    if rf+(rm-rf)*df_all['betas'].loc[stock]<df_all['ret_exp'].loc[stock]:\n",
    "        print('The stock is undervalued')\n",
    "    elif rf+(rm-rf)*df_all['betas'].loc[stock]>df_all['ret_exp'].loc[stock]:\n",
    "        print('The stock is overvalued')\n",
    "    else:\n",
    "        print('The stock is fairly priced')"
   ]
  },
  {
   "cell_type": "code",
   "execution_count": 45,
   "id": "8ac7c0a7",
   "metadata": {},
   "outputs": [
    {
     "name": "stdout",
     "output_type": "stream",
     "text": [
      "The stock is undervalued\n"
     ]
    }
   ],
   "source": [
    "over_under_val(rf,rm,'INTC')"
   ]
  },
  {
   "cell_type": "code",
   "execution_count": 53,
   "id": "9d67be80",
   "metadata": {},
   "outputs": [],
   "source": [
    "market_std=returns['excess_return_GSPC'].std()"
   ]
  },
  {
   "cell_type": "markdown",
   "id": "4baa3a5b",
   "metadata": {},
   "source": [
    "Now, it seem like you obtained  every inputs required to compute the ratios used for gauging the risk-reward combinations. We will do that using the scenarios provided in the instructions. Let me start with the first scenario, which is:\n",
    "\n",
    "* If portfolio is not well-diversified\n",
    "\n",
    "In this scenario, we are supposed to use Sharpe ratio in that if an investor holds a portfolio that is not fully diversified, total risk matters and Sharpe ratio consider the total risk. Recall that Sharpe ratio is:\n",
    "\n",
    "$$Sharpe=\\frac{r_i-r_f}{\\sigma_i}$$\n",
    "\n",
    "where $r_i$ and $\\sigma_i$ denote return and standard deviation of the stock, respectively."
   ]
  },
  {
   "cell_type": "code",
   "execution_count": 347,
   "id": "d176d9fd",
   "metadata": {},
   "outputs": [],
   "source": [
    "def sharpe(stocks,rf,n_assets):\n",
    "    sharpe_ratios={}\n",
    "    for i,j in zip(stocks,range(n_assets)):\n",
    "        sharpe_ratios[i]=(returns.iloc[:,j].mean()-rf)/np.std(returns.iloc[:,j])\n",
    "    return sharpe_ratios"
   ]
  },
  {
   "cell_type": "code",
   "execution_count": 338,
   "id": "959c0cee",
   "metadata": {},
   "outputs": [],
   "source": [
    "rf_mean=rf.mean()"
   ]
  },
  {
   "cell_type": "code",
   "execution_count": 348,
   "id": "1db70ce2",
   "metadata": {},
   "outputs": [
    {
     "data": {
      "text/plain": [
       "{'AAPL': -0.08220736567841445,\n",
       " 'IBM': 0.02977517132437248,\n",
       " 'INTC': 0.14182855414490264,\n",
       " 'MSFT': 0.03281853168175717}"
      ]
     },
     "execution_count": 348,
     "metadata": {},
     "output_type": "execute_result"
    }
   ],
   "source": [
    "stocks=returns.columns[:4]\n",
    "sharpe_ratios=sharpe(stocks,rf_mean,4)\n",
    "sharpe_ratios"
   ]
  }
 ],
 "metadata": {
  "kernelspec": {
   "display_name": "Python 3",
   "language": "python",
   "name": "python3"
  },
  "language_info": {
   "codemirror_mode": {
    "name": "ipython",
    "version": 3
   },
   "file_extension": ".py",
   "mimetype": "text/x-python",
   "name": "python",
   "nbconvert_exporter": "python",
   "pygments_lexer": "ipython3",
   "version": "3.8.8"
  },
  "toc": {
   "base_numbering": 1,
   "nav_menu": {},
   "number_sections": false,
   "sideBar": true,
   "skip_h1_title": false,
   "title_cell": "Table of Contents",
   "title_sidebar": "Contents",
   "toc_cell": false,
   "toc_position": {},
   "toc_section_display": true,
   "toc_window_display": false
  }
 },
 "nbformat": 4,
 "nbformat_minor": 5
}
